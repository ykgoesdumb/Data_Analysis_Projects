{
 "cells": [
  {
   "cell_type": "markdown",
   "metadata": {},
   "source": [
    "## Pyspark 연습 3"
   ]
  },
  {
   "cell_type": "markdown",
   "metadata": {},
   "source": []
  },
  {
   "cell_type": "code",
   "execution_count": 51,
   "metadata": {},
   "outputs": [],
   "source": [
    "from pyspark.sql import SparkSession\n",
    "spark = SparkSession\\\n",
    "        .builder\\\n",
    "        .appName('Practice')\\\n",
    "        .getOrCreate()"
   ]
  },
  {
   "cell_type": "code",
   "execution_count": 52,
   "metadata": {},
   "outputs": [],
   "source": [
    "df = spark.read.options(header = 'True',\n",
    "\t\t\t\t\t\t\t\t\tinferschema = 'True',\n",
    "\t\t\t\t\t\t\t\t\tdelimiter = ',').csv('test2.csv')"
   ]
  },
  {
   "cell_type": "code",
   "execution_count": 53,
   "metadata": {},
   "outputs": [
    {
     "name": "stdout",
     "output_type": "stream",
     "text": [
      "+---+-----------------+----------------+-----------------+----------------+\n",
      "|_c0|sepal length (cm)|sepal width (cm)|petal length (cm)|petal width (cm)|\n",
      "+---+-----------------+----------------+-----------------+----------------+\n",
      "|  0|              5.1|             3.5|              1.4|             0.2|\n",
      "|  1|             null|             3.0|              1.4|             0.2|\n",
      "|  2|              4.7|             3.2|              1.3|             0.2|\n",
      "|  3|              4.6|             3.1|              1.5|             0.2|\n",
      "|  4|              5.0|             3.6|             null|             0.2|\n",
      "|  5|              5.4|             3.9|              1.7|             0.4|\n",
      "|  6|              4.6|             3.4|             null|            null|\n",
      "|  7|              5.0|             3.4|              1.5|             0.2|\n",
      "|  8|             null|            null|             null|            null|\n",
      "|  9|              4.9|             3.1|              1.5|             0.1|\n",
      "| 10|             null|            null|             null|             0.2|\n",
      "| 11|              4.8|             3.4|              1.6|             0.2|\n",
      "| 12|              4.8|             3.0|             null|             0.1|\n",
      "| 13|              4.3|             3.0|             null|            null|\n",
      "| 14|              5.8|             4.0|              1.2|             0.2|\n",
      "| 15|              5.7|             4.4|              1.5|             0.4|\n",
      "| 16|              5.4|             3.9|              1.3|             0.4|\n",
      "| 17|              5.1|             3.5|              1.4|             0.3|\n",
      "| 18|              5.7|             3.8|              1.7|             0.3|\n",
      "| 19|              5.1|             3.8|              1.5|             0.3|\n",
      "+---+-----------------+----------------+-----------------+----------------+\n",
      "only showing top 20 rows\n",
      "\n"
     ]
    },
    {
     "name": "stderr",
     "output_type": "stream",
     "text": [
      "22/04/23 14:44:07 WARN CSVHeaderChecker: CSV header does not conform to the schema.\n",
      " Header: , sepal length (cm), sepal width (cm), petal length (cm), petal width (cm)\n",
      " Schema: _c0, sepal length (cm), sepal width (cm), petal length (cm), petal width (cm)\n",
      "Expected: _c0 but found: \n",
      "CSV file: file:///Users/mijeongkim/git/test2.csv\n"
     ]
    }
   ],
   "source": [
    "df.show()"
   ]
  },
  {
   "cell_type": "code",
   "execution_count": 54,
   "metadata": {},
   "outputs": [
    {
     "name": "stdout",
     "output_type": "stream",
     "text": [
      "root\n",
      " |-- _c0: integer (nullable = true)\n",
      " |-- sepal length (cm): double (nullable = true)\n",
      " |-- sepal width (cm): double (nullable = true)\n",
      " |-- petal length (cm): double (nullable = true)\n",
      " |-- petal width (cm): double (nullable = true)\n",
      "\n"
     ]
    }
   ],
   "source": [
    "df.printSchema()"
   ]
  },
  {
   "cell_type": "markdown",
   "metadata": {},
   "source": [
    "### na 값 제거하기\n",
    "\n",
    "na 값이 한개라도 있으면 row 전체를 삭제한다\n"
   ]
  },
  {
   "cell_type": "code",
   "execution_count": 55,
   "metadata": {},
   "outputs": [
    {
     "name": "stdout",
     "output_type": "stream",
     "text": [
      "+---+-----------------+----------------+-----------------+----------------+\n",
      "|_c0|sepal length (cm)|sepal width (cm)|petal length (cm)|petal width (cm)|\n",
      "+---+-----------------+----------------+-----------------+----------------+\n",
      "|  0|              5.1|             3.5|              1.4|             0.2|\n",
      "|  2|              4.7|             3.2|              1.3|             0.2|\n",
      "|  3|              4.6|             3.1|              1.5|             0.2|\n",
      "|  5|              5.4|             3.9|              1.7|             0.4|\n",
      "|  7|              5.0|             3.4|              1.5|             0.2|\n",
      "|  9|              4.9|             3.1|              1.5|             0.1|\n",
      "| 11|              4.8|             3.4|              1.6|             0.2|\n",
      "| 14|              5.8|             4.0|              1.2|             0.2|\n",
      "| 15|              5.7|             4.4|              1.5|             0.4|\n",
      "| 16|              5.4|             3.9|              1.3|             0.4|\n",
      "| 17|              5.1|             3.5|              1.4|             0.3|\n",
      "| 18|              5.7|             3.8|              1.7|             0.3|\n",
      "| 19|              5.1|             3.8|              1.5|             0.3|\n",
      "| 20|              5.4|             3.4|              1.7|             0.2|\n",
      "| 21|              5.1|             3.7|              1.5|             0.4|\n",
      "| 22|              4.6|             3.6|              1.0|             0.2|\n",
      "| 23|              5.1|             3.3|              1.7|             0.5|\n",
      "| 24|              4.8|             3.4|              1.9|             0.2|\n",
      "| 25|              5.0|             3.0|              1.6|             0.2|\n",
      "| 26|              5.0|             3.4|              1.6|             0.4|\n",
      "+---+-----------------+----------------+-----------------+----------------+\n",
      "only showing top 20 rows\n",
      "\n"
     ]
    },
    {
     "name": "stderr",
     "output_type": "stream",
     "text": [
      "22/04/23 14:44:15 WARN CSVHeaderChecker: CSV header does not conform to the schema.\n",
      " Header: , sepal length (cm), sepal width (cm), petal length (cm), petal width (cm)\n",
      " Schema: _c0, sepal length (cm), sepal width (cm), petal length (cm), petal width (cm)\n",
      "Expected: _c0 but found: \n",
      "CSV file: file:///Users/mijeongkim/git/test2.csv\n"
     ]
    }
   ],
   "source": [
    "df.na.drop().show()"
   ]
  },
  {
   "cell_type": "markdown",
   "metadata": {},
   "source": [
    "thresh 를 설정해 row 의 null value thresh 값 이상일때 해당 row를 제거해주는 조건을 만들 수 있다."
   ]
  },
  {
   "cell_type": "code",
   "execution_count": 56,
   "metadata": {},
   "outputs": [
    {
     "name": "stdout",
     "output_type": "stream",
     "text": [
      "+---+-----------------+----------------+-----------------+----------------+\n",
      "|_c0|sepal length (cm)|sepal width (cm)|petal length (cm)|petal width (cm)|\n",
      "+---+-----------------+----------------+-----------------+----------------+\n",
      "|  0|              5.1|             3.5|              1.4|             0.2|\n",
      "|  1|             null|             3.0|              1.4|             0.2|\n",
      "|  2|              4.7|             3.2|              1.3|             0.2|\n",
      "|  3|              4.6|             3.1|              1.5|             0.2|\n",
      "|  4|              5.0|             3.6|             null|             0.2|\n",
      "|  5|              5.4|             3.9|              1.7|             0.4|\n",
      "|  6|              4.6|             3.4|             null|            null|\n",
      "|  7|              5.0|             3.4|              1.5|             0.2|\n",
      "|  9|              4.9|             3.1|              1.5|             0.1|\n",
      "| 11|              4.8|             3.4|              1.6|             0.2|\n",
      "| 12|              4.8|             3.0|             null|             0.1|\n",
      "| 13|              4.3|             3.0|             null|            null|\n",
      "| 14|              5.8|             4.0|              1.2|             0.2|\n",
      "| 15|              5.7|             4.4|              1.5|             0.4|\n",
      "| 16|              5.4|             3.9|              1.3|             0.4|\n",
      "| 17|              5.1|             3.5|              1.4|             0.3|\n",
      "| 18|              5.7|             3.8|              1.7|             0.3|\n",
      "| 19|              5.1|             3.8|              1.5|             0.3|\n",
      "| 20|              5.4|             3.4|              1.7|             0.2|\n",
      "| 21|              5.1|             3.7|              1.5|             0.4|\n",
      "+---+-----------------+----------------+-----------------+----------------+\n",
      "only showing top 20 rows\n",
      "\n"
     ]
    },
    {
     "name": "stderr",
     "output_type": "stream",
     "text": [
      "22/04/23 14:44:18 WARN CSVHeaderChecker: CSV header does not conform to the schema.\n",
      " Header: , sepal length (cm), sepal width (cm), petal length (cm), petal width (cm)\n",
      " Schema: _c0, sepal length (cm), sepal width (cm), petal length (cm), petal width (cm)\n",
      "Expected: _c0 but found: \n",
      "CSV file: file:///Users/mijeongkim/git/test2.csv\n"
     ]
    }
   ],
   "source": [
    "df.na.drop(how='any', thresh = 3).show()"
   ]
  },
  {
   "cell_type": "markdown",
   "metadata": {},
   "source": [
    "subset 을 활용해 칼럼에 조건을 걸 수도 있다."
   ]
  },
  {
   "cell_type": "code",
   "execution_count": 57,
   "metadata": {},
   "outputs": [
    {
     "name": "stdout",
     "output_type": "stream",
     "text": [
      "+---+-----------------+----------------+-----------------+----------------+\n",
      "|_c0|sepal length (cm)|sepal width (cm)|petal length (cm)|petal width (cm)|\n",
      "+---+-----------------+----------------+-----------------+----------------+\n",
      "|  0|              5.1|             3.5|              1.4|             0.2|\n",
      "|  2|              4.7|             3.2|              1.3|             0.2|\n",
      "|  3|              4.6|             3.1|              1.5|             0.2|\n",
      "|  4|              5.0|             3.6|             null|             0.2|\n",
      "|  5|              5.4|             3.9|              1.7|             0.4|\n",
      "|  6|              4.6|             3.4|             null|            null|\n",
      "|  7|              5.0|             3.4|              1.5|             0.2|\n",
      "|  9|              4.9|             3.1|              1.5|             0.1|\n",
      "| 11|              4.8|             3.4|              1.6|             0.2|\n",
      "| 12|              4.8|             3.0|             null|             0.1|\n",
      "| 13|              4.3|             3.0|             null|            null|\n",
      "| 14|              5.8|             4.0|              1.2|             0.2|\n",
      "| 15|              5.7|             4.4|              1.5|             0.4|\n",
      "| 16|              5.4|             3.9|              1.3|             0.4|\n",
      "| 17|              5.1|             3.5|              1.4|             0.3|\n",
      "| 18|              5.7|             3.8|              1.7|             0.3|\n",
      "| 19|              5.1|             3.8|              1.5|             0.3|\n",
      "| 20|              5.4|             3.4|              1.7|             0.2|\n",
      "| 21|              5.1|             3.7|              1.5|             0.4|\n",
      "| 22|              4.6|             3.6|              1.0|             0.2|\n",
      "+---+-----------------+----------------+-----------------+----------------+\n",
      "only showing top 20 rows\n",
      "\n"
     ]
    },
    {
     "name": "stderr",
     "output_type": "stream",
     "text": [
      "22/04/23 14:44:27 WARN CSVHeaderChecker: CSV header does not conform to the schema.\n",
      " Header: , sepal length (cm), sepal width (cm), petal length (cm), petal width (cm)\n",
      " Schema: _c0, sepal length (cm), sepal width (cm), petal length (cm), petal width (cm)\n",
      "Expected: _c0 but found: \n",
      "CSV file: file:///Users/mijeongkim/git/test2.csv\n"
     ]
    }
   ],
   "source": [
    "df.na.drop(how = \"any\", subset = ['sepal length (cm)']).show()"
   ]
  },
  {
   "cell_type": "markdown",
   "metadata": {},
   "source": [
    "### Na 값 채우기"
   ]
  },
  {
   "cell_type": "code",
   "execution_count": 58,
   "metadata": {},
   "outputs": [
    {
     "data": {
      "text/plain": [
       "DataFrame[Index: int, sepal length (cm): double, sepal width (cm): double, petal length (cm): double, petal width (cm): double]"
      ]
     },
     "execution_count": 58,
     "metadata": {},
     "output_type": "execute_result"
    }
   ],
   "source": [
    "df = df.withColumnRenamed('_c0', 'Index')\n",
    "df"
   ]
  },
  {
   "cell_type": "code",
   "execution_count": 59,
   "metadata": {},
   "outputs": [],
   "source": [
    "df = df.na.fill('Missing value','sepal length (cm)')"
   ]
  },
  {
   "cell_type": "code",
   "execution_count": 60,
   "metadata": {},
   "outputs": [
    {
     "name": "stdout",
     "output_type": "stream",
     "text": [
      "+-----+-----------------+----------------+-----------------+----------------+\n",
      "|Index|sepal length (cm)|sepal width (cm)|petal length (cm)|petal width (cm)|\n",
      "+-----+-----------------+----------------+-----------------+----------------+\n",
      "|    0|              5.1|             3.5|              1.4|             0.2|\n",
      "|    1|             null|             3.0|              1.4|             0.2|\n",
      "|    2|              4.7|             3.2|              1.3|             0.2|\n",
      "|    3|              4.6|             3.1|              1.5|             0.2|\n",
      "|    4|              5.0|             3.6|             null|             0.2|\n",
      "|    5|              5.4|             3.9|              1.7|             0.4|\n",
      "|    6|              4.6|             3.4|             null|            null|\n",
      "|    7|              5.0|             3.4|              1.5|             0.2|\n",
      "|    8|             null|            null|             null|            null|\n",
      "|    9|              4.9|             3.1|              1.5|             0.1|\n",
      "|   10|             null|            null|             null|             0.2|\n",
      "|   11|              4.8|             3.4|              1.6|             0.2|\n",
      "|   12|              4.8|             3.0|             null|             0.1|\n",
      "|   13|              4.3|             3.0|             null|            null|\n",
      "|   14|              5.8|             4.0|              1.2|             0.2|\n",
      "|   15|              5.7|             4.4|              1.5|             0.4|\n",
      "|   16|              5.4|             3.9|              1.3|             0.4|\n",
      "|   17|              5.1|             3.5|              1.4|             0.3|\n",
      "|   18|              5.7|             3.8|              1.7|             0.3|\n",
      "|   19|              5.1|             3.8|              1.5|             0.3|\n",
      "+-----+-----------------+----------------+-----------------+----------------+\n",
      "only showing top 20 rows\n",
      "\n"
     ]
    },
    {
     "name": "stderr",
     "output_type": "stream",
     "text": [
      "22/04/23 14:44:34 WARN CSVHeaderChecker: CSV header does not conform to the schema.\n",
      " Header: , sepal length (cm), sepal width (cm), petal length (cm), petal width (cm)\n",
      " Schema: _c0, sepal length (cm), sepal width (cm), petal length (cm), petal width (cm)\n",
      "Expected: _c0 but found: \n",
      "CSV file: file:///Users/mijeongkim/git/test2.csv\n"
     ]
    }
   ],
   "source": [
    "df.show()"
   ]
  },
  {
   "cell_type": "markdown",
   "metadata": {},
   "source": [
    "### Imputer function을 사용해서 간편하게 missing value 채워넣기"
   ]
  },
  {
   "cell_type": "code",
   "execution_count": 69,
   "metadata": {},
   "outputs": [],
   "source": [
    "from pyspark.ml.feature import Imputer\n",
    "\n",
    "imputer = Imputer(\n",
    "    inputCols = ['sepal length (cm)', 'sepal width (cm)'],\n",
    "    outputCols = [\"{}_imputed\".format(c) for c in ['sepal length (cm)', 'sepal width (cm)']]\n",
    "    ).setStrategy(\"mean\")"
   ]
  },
  {
   "cell_type": "markdown",
   "metadata": {},
   "source": [
    "_imputed 가 붙은 항목을 보면 null value 가 모두 평균값으로 치환된 것을 볼 수 있다."
   ]
  },
  {
   "cell_type": "code",
   "execution_count": 70,
   "metadata": {},
   "outputs": [
    {
     "name": "stdout",
     "output_type": "stream",
     "text": [
      "+-----+-----------------+----------------+-----------------+----------------+-------------------------+------------------------+\n",
      "|Index|sepal length (cm)|sepal width (cm)|petal length (cm)|petal width (cm)|sepal length (cm)_imputed|sepal width (cm)_imputed|\n",
      "+-----+-----------------+----------------+-----------------+----------------+-------------------------+------------------------+\n",
      "|    0|              5.1|             3.5|              1.4|             0.2|                      5.1|                     3.5|\n",
      "|    1|             null|             3.0|              1.4|             0.2|        5.862585034013606|                     3.0|\n",
      "|    2|              4.7|             3.2|              1.3|             0.2|                      4.7|                     3.2|\n",
      "|    3|              4.6|             3.1|              1.5|             0.2|                      4.6|                     3.1|\n",
      "|    4|              5.0|             3.6|             null|             0.2|                      5.0|                     3.6|\n",
      "|    5|              5.4|             3.9|              1.7|             0.4|                      5.4|                     3.9|\n",
      "|    6|              4.6|             3.4|             null|            null|                      4.6|                     3.4|\n",
      "|    7|              5.0|             3.4|              1.5|             0.2|                      5.0|                     3.4|\n",
      "|    8|             null|            null|             null|            null|        5.862585034013606|      3.0540540540540553|\n",
      "|    9|              4.9|             3.1|              1.5|             0.1|                      4.9|                     3.1|\n",
      "|   10|             null|            null|             null|             0.2|        5.862585034013606|      3.0540540540540553|\n",
      "|   11|              4.8|             3.4|              1.6|             0.2|                      4.8|                     3.4|\n",
      "|   12|              4.8|             3.0|             null|             0.1|                      4.8|                     3.0|\n",
      "|   13|              4.3|             3.0|             null|            null|                      4.3|                     3.0|\n",
      "|   14|              5.8|             4.0|              1.2|             0.2|                      5.8|                     4.0|\n",
      "|   15|              5.7|             4.4|              1.5|             0.4|                      5.7|                     4.4|\n",
      "|   16|              5.4|             3.9|              1.3|             0.4|                      5.4|                     3.9|\n",
      "|   17|              5.1|             3.5|              1.4|             0.3|                      5.1|                     3.5|\n",
      "|   18|              5.7|             3.8|              1.7|             0.3|                      5.7|                     3.8|\n",
      "|   19|              5.1|             3.8|              1.5|             0.3|                      5.1|                     3.8|\n",
      "+-----+-----------------+----------------+-----------------+----------------+-------------------------+------------------------+\n",
      "only showing top 20 rows\n",
      "\n"
     ]
    },
    {
     "name": "stderr",
     "output_type": "stream",
     "text": [
      "22/04/23 14:54:35 WARN CSVHeaderChecker: CSV header does not conform to the schema.\n",
      " Header: , sepal length (cm), sepal width (cm), petal length (cm), petal width (cm)\n",
      " Schema: _c0, sepal length (cm), sepal width (cm), petal length (cm), petal width (cm)\n",
      "Expected: _c0 but found: \n",
      "CSV file: file:///Users/mijeongkim/git/test2.csv\n"
     ]
    }
   ],
   "source": [
    "imputer.fit(df).transform(df).show()"
   ]
  },
  {
   "cell_type": "code",
   "execution_count": null,
   "metadata": {},
   "outputs": [],
   "source": []
  }
 ],
 "metadata": {
  "interpreter": {
   "hash": "a04e1936a8279292722c1dee4730d7414b74ec89bd57cee0a3482b9ac557871b"
  },
  "kernelspec": {
   "display_name": "Python 3.9.7 ('base')",
   "language": "python",
   "name": "python3"
  },
  "language_info": {
   "codemirror_mode": {
    "name": "ipython",
    "version": 3
   },
   "file_extension": ".py",
   "mimetype": "text/x-python",
   "name": "python",
   "nbconvert_exporter": "python",
   "pygments_lexer": "ipython3",
   "version": "3.9.7"
  },
  "orig_nbformat": 4
 },
 "nbformat": 4,
 "nbformat_minor": 2
}
