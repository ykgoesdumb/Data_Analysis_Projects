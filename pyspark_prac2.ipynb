{
 "cells": [
  {
   "cell_type": "markdown",
   "metadata": {},
   "source": [
    "## Pyspark 연습 2"
   ]
  },
  {
   "cell_type": "code",
   "execution_count": 3,
   "metadata": {},
   "outputs": [],
   "source": [
    "from pyspark.sql import SparkSession"
   ]
  },
  {
   "cell_type": "code",
   "execution_count": 4,
   "metadata": {},
   "outputs": [
    {
     "name": "stderr",
     "output_type": "stream",
     "text": [
      "22/04/21 16:02:43 WARN Utils: Your hostname, miui-MacBook-Air.local resolves to a loopback address: 127.0.0.1; using 192.168.10.232 instead (on interface en0)\n",
      "22/04/21 16:02:43 WARN Utils: Set SPARK_LOCAL_IP if you need to bind to another address\n",
      "Using Spark's default log4j profile: org/apache/spark/log4j-defaults.properties\n",
      "Setting default log level to \"WARN\".\n",
      "To adjust logging level use sc.setLogLevel(newLevel). For SparkR, use setLogLevel(newLevel).\n",
      "22/04/21 16:02:44 WARN NativeCodeLoader: Unable to load native-hadoop library for your platform... using builtin-java classes where applicable\n",
      "22/04/21 16:02:47 WARN Utils: Service 'SparkUI' could not bind on port 4040. Attempting port 4041.\n"
     ]
    }
   ],
   "source": [
    "spark = SparkSession.builder.appName('Dataframe').getOrCreate()"
   ]
  },
  {
   "cell_type": "code",
   "execution_count": 5,
   "metadata": {},
   "outputs": [
    {
     "data": {
      "text/html": [
       "\n",
       "            <div>\n",
       "                <p><b>SparkSession - in-memory</b></p>\n",
       "                \n",
       "        <div>\n",
       "            <p><b>SparkContext</b></p>\n",
       "\n",
       "            <p><a href=\"http://192.168.10.232:4041\">Spark UI</a></p>\n",
       "\n",
       "            <dl>\n",
       "              <dt>Version</dt>\n",
       "                <dd><code>v3.2.1</code></dd>\n",
       "              <dt>Master</dt>\n",
       "                <dd><code>local[*]</code></dd>\n",
       "              <dt>AppName</dt>\n",
       "                <dd><code>Dataframe</code></dd>\n",
       "            </dl>\n",
       "        </div>\n",
       "        \n",
       "            </div>\n",
       "        "
      ],
      "text/plain": [
       "<pyspark.sql.session.SparkSession at 0x7fde608ce040>"
      ]
     },
     "execution_count": 5,
     "metadata": {},
     "output_type": "execute_result"
    }
   ],
   "source": [
    "spark"
   ]
  },
  {
   "cell_type": "markdown",
   "metadata": {},
   "source": [
    "### 데이터셋 읽는 방법"
   ]
  },
  {
   "cell_type": "code",
   "execution_count": 9,
   "metadata": {},
   "outputs": [],
   "source": [
    "df = spark.read.option('header', 'true').csv('test1.csv', inferSchema = True)\n"
   ]
  },
  {
   "cell_type": "markdown",
   "metadata": {},
   "source": [
    "inferschema = True가 없으면 dataset을  string으로 불러온다\n"
   ]
  },
  {
   "cell_type": "code",
   "execution_count": 10,
   "metadata": {},
   "outputs": [
    {
     "name": "stdout",
     "output_type": "stream",
     "text": [
      "root\n",
      " |-- _c0: integer (nullable = true)\n",
      " |-- sepal length (cm): double (nullable = true)\n",
      " |-- sepal width (cm): double (nullable = true)\n",
      " |-- petal length (cm): double (nullable = true)\n",
      " |-- petal width (cm): double (nullable = true)\n",
      "\n"
     ]
    }
   ],
   "source": [
    "df.printSchema()"
   ]
  },
  {
   "cell_type": "markdown",
   "metadata": {},
   "source": [
    "컬럼 보기"
   ]
  },
  {
   "cell_type": "code",
   "execution_count": 11,
   "metadata": {},
   "outputs": [
    {
     "data": {
      "text/plain": [
       "['_c0',\n",
       " 'sepal length (cm)',\n",
       " 'sepal width (cm)',\n",
       " 'petal length (cm)',\n",
       " 'petal width (cm)']"
      ]
     },
     "execution_count": 11,
     "metadata": {},
     "output_type": "execute_result"
    }
   ],
   "source": [
    "df.columns"
   ]
  },
  {
   "cell_type": "markdown",
   "metadata": {},
   "source": [
    "Select (붓꽃데이터 괜히 한거같다)"
   ]
  },
  {
   "cell_type": "code",
   "execution_count": 16,
   "metadata": {},
   "outputs": [
    {
     "data": {
      "text/plain": [
       "DataFrame[sepal length (cm): double]"
      ]
     },
     "execution_count": 16,
     "metadata": {},
     "output_type": "execute_result"
    }
   ],
   "source": [
    "df.select('sepal length (cm)')"
   ]
  },
  {
   "cell_type": "markdown",
   "metadata": {},
   "source": [
    "Select 한 결과 보기"
   ]
  },
  {
   "cell_type": "code",
   "execution_count": 17,
   "metadata": {},
   "outputs": [
    {
     "name": "stdout",
     "output_type": "stream",
     "text": [
      "+-----------------+\n",
      "|sepal length (cm)|\n",
      "+-----------------+\n",
      "|              5.1|\n",
      "|              4.9|\n",
      "|              4.7|\n",
      "|              4.6|\n",
      "|              5.0|\n",
      "|              5.4|\n",
      "|              4.6|\n",
      "|              5.0|\n",
      "|              4.4|\n",
      "|              4.9|\n",
      "|              5.4|\n",
      "|              4.8|\n",
      "|              4.8|\n",
      "|              4.3|\n",
      "|              5.8|\n",
      "|              5.7|\n",
      "|              5.4|\n",
      "|              5.1|\n",
      "|              5.7|\n",
      "|              5.1|\n",
      "+-----------------+\n",
      "only showing top 20 rows\n",
      "\n"
     ]
    }
   ],
   "source": [
    "df.select('sepal length (cm)').show()"
   ]
  },
  {
   "cell_type": "markdown",
   "metadata": {},
   "source": [
    "복수의 column select 하기"
   ]
  },
  {
   "cell_type": "code",
   "execution_count": 18,
   "metadata": {},
   "outputs": [
    {
     "name": "stdout",
     "output_type": "stream",
     "text": [
      "+-----------------+----------------+\n",
      "|sepal length (cm)|sepal width (cm)|\n",
      "+-----------------+----------------+\n",
      "|              5.1|             3.5|\n",
      "|              4.9|             3.0|\n",
      "|              4.7|             3.2|\n",
      "|              4.6|             3.1|\n",
      "|              5.0|             3.6|\n",
      "|              5.4|             3.9|\n",
      "|              4.6|             3.4|\n",
      "|              5.0|             3.4|\n",
      "|              4.4|             2.9|\n",
      "|              4.9|             3.1|\n",
      "|              5.4|             3.7|\n",
      "|              4.8|             3.4|\n",
      "|              4.8|             3.0|\n",
      "|              4.3|             3.0|\n",
      "|              5.8|             4.0|\n",
      "|              5.7|             4.4|\n",
      "|              5.4|             3.9|\n",
      "|              5.1|             3.5|\n",
      "|              5.7|             3.8|\n",
      "|              5.1|             3.8|\n",
      "+-----------------+----------------+\n",
      "only showing top 20 rows\n",
      "\n"
     ]
    }
   ],
   "source": [
    "df.select(['sepal length (cm)', 'sepal width (cm)']).show()"
   ]
  },
  {
   "cell_type": "markdown",
   "metadata": {},
   "source": [
    "Pandas의 선택하는 방식이랑 조금 다르다 pyspark 에서는 .select가 붙어야지만 선택이 된다"
   ]
  },
  {
   "cell_type": "code",
   "execution_count": 19,
   "metadata": {},
   "outputs": [
    {
     "data": {
      "text/plain": [
       "Column<'sepal length (cm)'>"
      ]
     },
     "execution_count": 19,
     "metadata": {},
     "output_type": "execute_result"
    }
   ],
   "source": [
    "df['sepal length (cm)']"
   ]
  },
  {
   "cell_type": "markdown",
   "metadata": {},
   "source": [
    "데이터 타입 보기"
   ]
  },
  {
   "cell_type": "code",
   "execution_count": 20,
   "metadata": {},
   "outputs": [
    {
     "data": {
      "text/plain": [
       "[('_c0', 'int'),\n",
       " ('sepal length (cm)', 'double'),\n",
       " ('sepal width (cm)', 'double'),\n",
       " ('petal length (cm)', 'double'),\n",
       " ('petal width (cm)', 'double')]"
      ]
     },
     "execution_count": 20,
     "metadata": {},
     "output_type": "execute_result"
    }
   ],
   "source": [
    "df.dtypes"
   ]
  },
  {
   "cell_type": "markdown",
   "metadata": {},
   "source": [
    "pyspark 의 describe 는 pandas와 달리 describe 뒤에 .show()를 해야 출력된다"
   ]
  },
  {
   "cell_type": "code",
   "execution_count": 23,
   "metadata": {},
   "outputs": [
    {
     "name": "stderr",
     "output_type": "stream",
     "text": [
      "22/04/21 16:37:01 WARN CSVHeaderChecker: CSV header does not conform to the schema.\n",
      " Header: , sepal length (cm), sepal width (cm), petal length (cm), petal width (cm)\n",
      " Schema: _c0, sepal length (cm), sepal width (cm), petal length (cm), petal width (cm)\n",
      "Expected: _c0 but found: \n",
      "CSV file: file:///Users/mijeongkim/git/test1.csv\n"
     ]
    },
    {
     "name": "stdout",
     "output_type": "stream",
     "text": [
      "+-------+------------------+------------------+-------------------+------------------+------------------+\n",
      "|summary|               _c0| sepal length (cm)|   sepal width (cm)| petal length (cm)|  petal width (cm)|\n",
      "+-------+------------------+------------------+-------------------+------------------+------------------+\n",
      "|  count|               150|               150|                150|               150|               150|\n",
      "|   mean|              74.5| 5.843333333333335|  3.057333333333334|3.7580000000000027| 1.199333333333334|\n",
      "| stddev|43.445367992456916|0.8280661279778637|0.43586628493669793|1.7652982332594662|0.7622376689603467|\n",
      "|    min|                 0|               4.3|                2.0|               1.0|               0.1|\n",
      "|    max|               149|               7.9|                4.4|               6.9|               2.5|\n",
      "+-------+------------------+------------------+-------------------+------------------+------------------+\n",
      "\n"
     ]
    }
   ],
   "source": [
    "df.describe().show()"
   ]
  },
  {
   "cell_type": "markdown",
   "metadata": {},
   "source": [
    "with column 으로 column 추가하기"
   ]
  },
  {
   "cell_type": "code",
   "execution_count": 27,
   "metadata": {},
   "outputs": [
    {
     "name": "stdout",
     "output_type": "stream",
     "text": [
      "+---+-----------------+----------------+-----------------+----------------+---------------+\n",
      "|_c0|sepal length (cm)|sepal width (cm)|petal length (cm)|petal width (cm)|sepal width + 1|\n",
      "+---+-----------------+----------------+-----------------+----------------+---------------+\n",
      "|  0|              5.1|             3.5|              1.4|             0.2|            6.1|\n",
      "|  1|              4.9|             3.0|              1.4|             0.2|            5.9|\n",
      "|  2|              4.7|             3.2|              1.3|             0.2|            5.7|\n",
      "|  3|              4.6|             3.1|              1.5|             0.2|            5.6|\n",
      "|  4|              5.0|             3.6|              1.4|             0.2|            6.0|\n",
      "|  5|              5.4|             3.9|              1.7|             0.4|            6.4|\n",
      "|  6|              4.6|             3.4|              1.4|             0.3|            5.6|\n",
      "|  7|              5.0|             3.4|              1.5|             0.2|            6.0|\n",
      "|  8|              4.4|             2.9|              1.4|             0.2|            5.4|\n",
      "|  9|              4.9|             3.1|              1.5|             0.1|            5.9|\n",
      "| 10|              5.4|             3.7|              1.5|             0.2|            6.4|\n",
      "| 11|              4.8|             3.4|              1.6|             0.2|            5.8|\n",
      "| 12|              4.8|             3.0|              1.4|             0.1|            5.8|\n",
      "| 13|              4.3|             3.0|              1.1|             0.1|            5.3|\n",
      "| 14|              5.8|             4.0|              1.2|             0.2|            6.8|\n",
      "| 15|              5.7|             4.4|              1.5|             0.4|            6.7|\n",
      "| 16|              5.4|             3.9|              1.3|             0.4|            6.4|\n",
      "| 17|              5.1|             3.5|              1.4|             0.3|            6.1|\n",
      "| 18|              5.7|             3.8|              1.7|             0.3|            6.7|\n",
      "| 19|              5.1|             3.8|              1.5|             0.3|            6.1|\n",
      "+---+-----------------+----------------+-----------------+----------------+---------------+\n",
      "only showing top 20 rows\n",
      "\n"
     ]
    },
    {
     "name": "stderr",
     "output_type": "stream",
     "text": [
      "22/04/21 17:03:58 WARN CSVHeaderChecker: CSV header does not conform to the schema.\n",
      " Header: , sepal length (cm), sepal width (cm), petal length (cm), petal width (cm)\n",
      " Schema: _c0, sepal length (cm), sepal width (cm), petal length (cm), petal width (cm)\n",
      "Expected: _c0 but found: \n",
      "CSV file: file:///Users/mijeongkim/git/test1.csv\n"
     ]
    }
   ],
   "source": [
    "df.withColumn('sepal width + 1', df['sepal length (cm)']+1).show()"
   ]
  },
  {
   "cell_type": "code",
   "execution_count": 29,
   "metadata": {},
   "outputs": [],
   "source": [
    "df = df.withColumn('sepal width + 1', df['sepal length (cm)']+1)"
   ]
  },
  {
   "cell_type": "markdown",
   "metadata": {},
   "source": [
    "drop 으로 column 제거하기"
   ]
  },
  {
   "cell_type": "code",
   "execution_count": 31,
   "metadata": {},
   "outputs": [
    {
     "name": "stdout",
     "output_type": "stream",
     "text": [
      "+---+-----------------+----------------+-----------------+----------------+\n",
      "|_c0|sepal length (cm)|sepal width (cm)|petal length (cm)|petal width (cm)|\n",
      "+---+-----------------+----------------+-----------------+----------------+\n",
      "|  0|              5.1|             3.5|              1.4|             0.2|\n",
      "|  1|              4.9|             3.0|              1.4|             0.2|\n",
      "|  2|              4.7|             3.2|              1.3|             0.2|\n",
      "|  3|              4.6|             3.1|              1.5|             0.2|\n",
      "|  4|              5.0|             3.6|              1.4|             0.2|\n",
      "|  5|              5.4|             3.9|              1.7|             0.4|\n",
      "|  6|              4.6|             3.4|              1.4|             0.3|\n",
      "|  7|              5.0|             3.4|              1.5|             0.2|\n",
      "|  8|              4.4|             2.9|              1.4|             0.2|\n",
      "|  9|              4.9|             3.1|              1.5|             0.1|\n",
      "| 10|              5.4|             3.7|              1.5|             0.2|\n",
      "| 11|              4.8|             3.4|              1.6|             0.2|\n",
      "| 12|              4.8|             3.0|              1.4|             0.1|\n",
      "| 13|              4.3|             3.0|              1.1|             0.1|\n",
      "| 14|              5.8|             4.0|              1.2|             0.2|\n",
      "| 15|              5.7|             4.4|              1.5|             0.4|\n",
      "| 16|              5.4|             3.9|              1.3|             0.4|\n",
      "| 17|              5.1|             3.5|              1.4|             0.3|\n",
      "| 18|              5.7|             3.8|              1.7|             0.3|\n",
      "| 19|              5.1|             3.8|              1.5|             0.3|\n",
      "+---+-----------------+----------------+-----------------+----------------+\n",
      "only showing top 20 rows\n",
      "\n"
     ]
    },
    {
     "name": "stderr",
     "output_type": "stream",
     "text": [
      "22/04/21 17:05:36 WARN CSVHeaderChecker: CSV header does not conform to the schema.\n",
      " Header: , sepal length (cm), sepal width (cm), petal length (cm), petal width (cm)\n",
      " Schema: _c0, sepal length (cm), sepal width (cm), petal length (cm), petal width (cm)\n",
      "Expected: _c0 but found: \n",
      "CSV file: file:///Users/mijeongkim/git/test1.csv\n"
     ]
    }
   ],
   "source": [
    "df.drop('sepal width + 1').show()"
   ]
  },
  {
   "cell_type": "code",
   "execution_count": 34,
   "metadata": {},
   "outputs": [],
   "source": [
    "df = df.drop('sepal width + 1')"
   ]
  },
  {
   "cell_type": "code",
   "execution_count": 35,
   "metadata": {},
   "outputs": [
    {
     "name": "stdout",
     "output_type": "stream",
     "text": [
      "+---+-----------------+----------------+-----------------+----------------+\n",
      "|_c0|sepal length (cm)|sepal width (cm)|petal length (cm)|petal width (cm)|\n",
      "+---+-----------------+----------------+-----------------+----------------+\n",
      "|  0|              5.1|             3.5|              1.4|             0.2|\n",
      "|  1|              4.9|             3.0|              1.4|             0.2|\n",
      "|  2|              4.7|             3.2|              1.3|             0.2|\n",
      "|  3|              4.6|             3.1|              1.5|             0.2|\n",
      "|  4|              5.0|             3.6|              1.4|             0.2|\n",
      "|  5|              5.4|             3.9|              1.7|             0.4|\n",
      "|  6|              4.6|             3.4|              1.4|             0.3|\n",
      "|  7|              5.0|             3.4|              1.5|             0.2|\n",
      "|  8|              4.4|             2.9|              1.4|             0.2|\n",
      "|  9|              4.9|             3.1|              1.5|             0.1|\n",
      "| 10|              5.4|             3.7|              1.5|             0.2|\n",
      "| 11|              4.8|             3.4|              1.6|             0.2|\n",
      "| 12|              4.8|             3.0|              1.4|             0.1|\n",
      "| 13|              4.3|             3.0|              1.1|             0.1|\n",
      "| 14|              5.8|             4.0|              1.2|             0.2|\n",
      "| 15|              5.7|             4.4|              1.5|             0.4|\n",
      "| 16|              5.4|             3.9|              1.3|             0.4|\n",
      "| 17|              5.1|             3.5|              1.4|             0.3|\n",
      "| 18|              5.7|             3.8|              1.7|             0.3|\n",
      "| 19|              5.1|             3.8|              1.5|             0.3|\n",
      "+---+-----------------+----------------+-----------------+----------------+\n",
      "only showing top 20 rows\n",
      "\n"
     ]
    },
    {
     "name": "stderr",
     "output_type": "stream",
     "text": [
      "22/04/21 17:06:11 WARN CSVHeaderChecker: CSV header does not conform to the schema.\n",
      " Header: , sepal length (cm), sepal width (cm), petal length (cm), petal width (cm)\n",
      " Schema: _c0, sepal length (cm), sepal width (cm), petal length (cm), petal width (cm)\n",
      "Expected: _c0 but found: \n",
      "CSV file: file:///Users/mijeongkim/git/test1.csv\n"
     ]
    }
   ],
   "source": [
    "df.show()"
   ]
  },
  {
   "cell_type": "markdown",
   "metadata": {},
   "source": [
    "withColumnRenamed 로 컬럼 이름 변경"
   ]
  },
  {
   "cell_type": "code",
   "execution_count": 36,
   "metadata": {},
   "outputs": [
    {
     "name": "stdout",
     "output_type": "stream",
     "text": [
      "+-----+-----------------+----------------+-----------------+----------------+\n",
      "|index|sepal length (cm)|sepal width (cm)|petal length (cm)|petal width (cm)|\n",
      "+-----+-----------------+----------------+-----------------+----------------+\n",
      "|    0|              5.1|             3.5|              1.4|             0.2|\n",
      "|    1|              4.9|             3.0|              1.4|             0.2|\n",
      "|    2|              4.7|             3.2|              1.3|             0.2|\n",
      "|    3|              4.6|             3.1|              1.5|             0.2|\n",
      "|    4|              5.0|             3.6|              1.4|             0.2|\n",
      "|    5|              5.4|             3.9|              1.7|             0.4|\n",
      "|    6|              4.6|             3.4|              1.4|             0.3|\n",
      "|    7|              5.0|             3.4|              1.5|             0.2|\n",
      "|    8|              4.4|             2.9|              1.4|             0.2|\n",
      "|    9|              4.9|             3.1|              1.5|             0.1|\n",
      "|   10|              5.4|             3.7|              1.5|             0.2|\n",
      "|   11|              4.8|             3.4|              1.6|             0.2|\n",
      "|   12|              4.8|             3.0|              1.4|             0.1|\n",
      "|   13|              4.3|             3.0|              1.1|             0.1|\n",
      "|   14|              5.8|             4.0|              1.2|             0.2|\n",
      "|   15|              5.7|             4.4|              1.5|             0.4|\n",
      "|   16|              5.4|             3.9|              1.3|             0.4|\n",
      "|   17|              5.1|             3.5|              1.4|             0.3|\n",
      "|   18|              5.7|             3.8|              1.7|             0.3|\n",
      "|   19|              5.1|             3.8|              1.5|             0.3|\n",
      "+-----+-----------------+----------------+-----------------+----------------+\n",
      "only showing top 20 rows\n",
      "\n"
     ]
    },
    {
     "name": "stderr",
     "output_type": "stream",
     "text": [
      "22/04/21 17:09:16 WARN CSVHeaderChecker: CSV header does not conform to the schema.\n",
      " Header: , sepal length (cm), sepal width (cm), petal length (cm), petal width (cm)\n",
      " Schema: _c0, sepal length (cm), sepal width (cm), petal length (cm), petal width (cm)\n",
      "Expected: _c0 but found: \n",
      "CSV file: file:///Users/mijeongkim/git/test1.csv\n"
     ]
    }
   ],
   "source": [
    "df.withColumnRenamed('_c0', 'index').show()"
   ]
  },
  {
   "cell_type": "code",
   "execution_count": 37,
   "metadata": {},
   "outputs": [],
   "source": [
    "df = df.withColumnRenamed('_c0', 'index')"
   ]
  },
  {
   "cell_type": "code",
   "execution_count": null,
   "metadata": {},
   "outputs": [],
   "source": []
  }
 ],
 "metadata": {
  "interpreter": {
   "hash": "aee8b7b246df8f9039afb4144a1f6fd8d2ca17a180786b69acc140d282b71a49"
  },
  "kernelspec": {
   "display_name": "Python 3.10.1 64-bit",
   "language": "python",
   "name": "python3"
  },
  "language_info": {
   "codemirror_mode": {
    "name": "ipython",
    "version": 3
   },
   "file_extension": ".py",
   "mimetype": "text/x-python",
   "name": "python",
   "nbconvert_exporter": "python",
   "pygments_lexer": "ipython3",
   "version": "3.9.7"
  },
  "orig_nbformat": 4
 },
 "nbformat": 4,
 "nbformat_minor": 2
}
