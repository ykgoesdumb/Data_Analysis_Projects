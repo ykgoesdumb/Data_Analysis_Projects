{
 "cells": [
  {
   "cell_type": "markdown",
   "metadata": {},
   "source": [
    "## Pyspark 연습 4"
   ]
  },
  {
   "cell_type": "code",
   "execution_count": 1,
   "metadata": {},
   "outputs": [],
   "source": [
    "import pyspark\n",
    "from pyspark.sql import SparkSession"
   ]
  },
  {
   "cell_type": "code",
   "execution_count": 2,
   "metadata": {},
   "outputs": [
    {
     "name": "stderr",
     "output_type": "stream",
     "text": [
      "22/04/23 15:05:54 WARN Utils: Your hostname, miui-MacBook-Air.local resolves to a loopback address: 127.0.0.1; using 192.168.219.104 instead (on interface en0)\n",
      "22/04/23 15:05:54 WARN Utils: Set SPARK_LOCAL_IP if you need to bind to another address\n",
      "Using Spark's default log4j profile: org/apache/spark/log4j-defaults.properties\n",
      "Setting default log level to \"WARN\".\n",
      "To adjust logging level use sc.setLogLevel(newLevel). For SparkR, use setLogLevel(newLevel).\n",
      "22/04/23 15:05:55 WARN NativeCodeLoader: Unable to load native-hadoop library for your platform... using builtin-java classes where applicable\n",
      "22/04/23 15:05:58 WARN Utils: Service 'SparkUI' could not bind on port 4040. Attempting port 4041.\n",
      "22/04/23 15:05:58 WARN Utils: Service 'SparkUI' could not bind on port 4041. Attempting port 4042.\n",
      "22/04/23 15:05:58 WARN Utils: Service 'SparkUI' could not bind on port 4042. Attempting port 4043.\n"
     ]
    }
   ],
   "source": [
    "spark = SparkSession.builder.appName('dataframe').getOrCreate()"
   ]
  },
  {
   "cell_type": "code",
   "execution_count": 5,
   "metadata": {},
   "outputs": [
    {
     "name": "stderr",
     "output_type": "stream",
     "text": [
      "                                                                                \r"
     ]
    }
   ],
   "source": [
    "df = spark.read.csv('test3.csv',\n",
    "                    header = True,\n",
    "                    inferSchema = True)"
   ]
  },
  {
   "cell_type": "code",
   "execution_count": 6,
   "metadata": {},
   "outputs": [
    {
     "name": "stdout",
     "output_type": "stream",
     "text": [
      "+----------------+-------+----------+----------+------+-------+---------+--------------------+--------------------+--------------------+--------------------+--------------+--------------+--------------+\n",
      "|Series_reference| Period|Data_value|Suppressed|STATUS|  UNITS|Magnitude|             Subject|               Group|      Series_title_1|      Series_title_2|Series_title_3|Series_title_4|Series_title_5|\n",
      "+----------------+-------+----------+----------+------+-------+---------+--------------------+--------------------+--------------------+--------------------+--------------+--------------+--------------+\n",
      "|   BDCQ.SF1AA2CA|2016.06|  1116.386|      null|     F|Dollars|        6|Business Data Col...|Industry by finan...|Sales (operating ...|Forestry and Logging|Current prices|    Unadjusted|          null|\n",
      "|   BDCQ.SF1AA2CA|2016.09|  1070.874|      null|     F|Dollars|        6|Business Data Col...|Industry by finan...|Sales (operating ...|Forestry and Logging|Current prices|    Unadjusted|          null|\n",
      "|   BDCQ.SF1AA2CA|2016.12|  1054.408|      null|     F|Dollars|        6|Business Data Col...|Industry by finan...|Sales (operating ...|Forestry and Logging|Current prices|    Unadjusted|          null|\n",
      "|   BDCQ.SF1AA2CA|2017.03|  1010.665|      null|     F|Dollars|        6|Business Data Col...|Industry by finan...|Sales (operating ...|Forestry and Logging|Current prices|    Unadjusted|          null|\n",
      "|   BDCQ.SF1AA2CA|2017.06|    1233.7|      null|     F|Dollars|        6|Business Data Col...|Industry by finan...|Sales (operating ...|Forestry and Logging|Current prices|    Unadjusted|          null|\n",
      "|   BDCQ.SF1AA2CA|2017.09|  1282.436|      null|     F|Dollars|        6|Business Data Col...|Industry by finan...|Sales (operating ...|Forestry and Logging|Current prices|    Unadjusted|          null|\n",
      "|   BDCQ.SF1AA2CA|2017.12|   1290.82|      null|     F|Dollars|        6|Business Data Col...|Industry by finan...|Sales (operating ...|Forestry and Logging|Current prices|    Unadjusted|          null|\n",
      "|   BDCQ.SF1AA2CA|2018.03|  1412.007|      null|     F|Dollars|        6|Business Data Col...|Industry by finan...|Sales (operating ...|Forestry and Logging|Current prices|    Unadjusted|          null|\n",
      "|   BDCQ.SF1AA2CA|2018.06|  1488.055|      null|     F|Dollars|        6|Business Data Col...|Industry by finan...|Sales (operating ...|Forestry and Logging|Current prices|    Unadjusted|          null|\n",
      "|   BDCQ.SF1AA2CA|2018.09|  1497.678|      null|     F|Dollars|        6|Business Data Col...|Industry by finan...|Sales (operating ...|Forestry and Logging|Current prices|    Unadjusted|          null|\n",
      "|   BDCQ.SF1AA2CA|2018.12|  1570.507|      null|     F|Dollars|        6|Business Data Col...|Industry by finan...|Sales (operating ...|Forestry and Logging|Current prices|    Unadjusted|          null|\n",
      "|   BDCQ.SF1AA2CA|2019.03|  1393.749|      null|     F|Dollars|        6|Business Data Col...|Industry by finan...|Sales (operating ...|Forestry and Logging|Current prices|    Unadjusted|          null|\n",
      "|   BDCQ.SF1AA2CA|2019.06|  1517.143|      null|     F|Dollars|        6|Business Data Col...|Industry by finan...|Sales (operating ...|Forestry and Logging|Current prices|    Unadjusted|          null|\n",
      "|   BDCQ.SF1AA2CA|2019.09|  1381.514|      null|     F|Dollars|        6|Business Data Col...|Industry by finan...|Sales (operating ...|Forestry and Logging|Current prices|    Unadjusted|          null|\n",
      "|   BDCQ.SF1AA2CA|2019.12|  1370.985|      null|     F|Dollars|        6|Business Data Col...|Industry by finan...|Sales (operating ...|Forestry and Logging|Current prices|    Unadjusted|          null|\n",
      "|   BDCQ.SF1AA2CA|2020.03|  1073.017|      null|     F|Dollars|        6|Business Data Col...|Industry by finan...|Sales (operating ...|Forestry and Logging|Current prices|    Unadjusted|          null|\n",
      "|   BDCQ.SF1AA2CA|2020.06|  1131.445|      null|     F|Dollars|        6|Business Data Col...|Industry by finan...|Sales (operating ...|Forestry and Logging|Current prices|    Unadjusted|          null|\n",
      "|   BDCQ.SF1AA2CA|2020.09|  1440.101|      null|     F|Dollars|        6|Business Data Col...|Industry by finan...|Sales (operating ...|Forestry and Logging|Current prices|    Unadjusted|          null|\n",
      "|   BDCQ.SF1AA2CA|2020.12|  1489.979|      null|     F|Dollars|        6|Business Data Col...|Industry by finan...|Sales (operating ...|Forestry and Logging|Current prices|    Unadjusted|          null|\n",
      "|   BDCQ.SF1AA2CA|2021.03|  1390.782|      null|     F|Dollars|        6|Business Data Col...|Industry by finan...|Sales (operating ...|Forestry and Logging|Current prices|    Unadjusted|          null|\n",
      "+----------------+-------+----------+----------+------+-------+---------+--------------------+--------------------+--------------------+--------------------+--------------+--------------+--------------+\n",
      "only showing top 20 rows\n",
      "\n"
     ]
    }
   ],
   "source": [
    "df.show()"
   ]
  },
  {
   "cell_type": "code",
   "execution_count": 15,
   "metadata": {},
   "outputs": [],
   "source": [
    "df.columns\n",
    "df = df.select(['Data_value','UNITS','Group'])"
   ]
  },
  {
   "cell_type": "code",
   "execution_count": 16,
   "metadata": {},
   "outputs": [
    {
     "name": "stdout",
     "output_type": "stream",
     "text": [
      "+----------+-------+--------------------+\n",
      "|Data_value|  UNITS|               Group|\n",
      "+----------+-------+--------------------+\n",
      "|  1116.386|Dollars|Industry by finan...|\n",
      "|  1070.874|Dollars|Industry by finan...|\n",
      "|  1054.408|Dollars|Industry by finan...|\n",
      "|  1010.665|Dollars|Industry by finan...|\n",
      "|    1233.7|Dollars|Industry by finan...|\n",
      "|  1282.436|Dollars|Industry by finan...|\n",
      "|   1290.82|Dollars|Industry by finan...|\n",
      "|  1412.007|Dollars|Industry by finan...|\n",
      "|  1488.055|Dollars|Industry by finan...|\n",
      "|  1497.678|Dollars|Industry by finan...|\n",
      "|  1570.507|Dollars|Industry by finan...|\n",
      "|  1393.749|Dollars|Industry by finan...|\n",
      "|  1517.143|Dollars|Industry by finan...|\n",
      "|  1381.514|Dollars|Industry by finan...|\n",
      "|  1370.985|Dollars|Industry by finan...|\n",
      "|  1073.017|Dollars|Industry by finan...|\n",
      "|  1131.445|Dollars|Industry by finan...|\n",
      "|  1440.101|Dollars|Industry by finan...|\n",
      "|  1489.979|Dollars|Industry by finan...|\n",
      "|  1390.782|Dollars|Industry by finan...|\n",
      "+----------+-------+--------------------+\n",
      "only showing top 20 rows\n",
      "\n"
     ]
    }
   ],
   "source": [
    "df.show()"
   ]
  },
  {
   "cell_type": "markdown",
   "metadata": {},
   "source": [
    "### Filtering 하기"
   ]
  },
  {
   "cell_type": "markdown",
   "metadata": {},
   "source": [
    "filter 함수 안에 조건을 추가 할 수 있다."
   ]
  },
  {
   "cell_type": "code",
   "execution_count": 17,
   "metadata": {},
   "outputs": [
    {
     "name": "stdout",
     "output_type": "stream",
     "text": [
      "+----------+-------+--------------------+\n",
      "|Data_value|  UNITS|               Group|\n",
      "+----------+-------+--------------------+\n",
      "|  1570.507|Dollars|Industry by finan...|\n",
      "|  1517.143|Dollars|Industry by finan...|\n",
      "|   1826.73|Dollars|Industry by finan...|\n",
      "|  1710.073|Dollars|Industry by finan...|\n",
      "|  1559.479|Dollars|Industry by finan...|\n",
      "|  1514.155|Dollars|Industry by finan...|\n",
      "|  1570.581|Dollars|Industry by finan...|\n",
      "|  1735.291|Dollars|Industry by finan...|\n",
      "|  1680.567|Dollars|Industry by finan...|\n",
      "|  1562.499|Dollars|Industry by finan...|\n",
      "|  1541.834|Dollars|Industry by finan...|\n",
      "|  1514.345|Dollars|Industry by finan...|\n",
      "|  1772.086|Dollars|Industry by finan...|\n",
      "|  1554.221|Dollars|Industry by finan...|\n",
      "|  1771.028|Dollars|Industry by finan...|\n",
      "|   1665.84|Dollars|Industry by finan...|\n",
      "|  1554.397|Dollars|Industry by finan...|\n",
      "|  1817.118|Dollars|Industry by finan...|\n",
      "|  1582.915|Dollars|Industry by finan...|\n",
      "|  1614.752|Dollars|Industry by finan...|\n",
      "+----------+-------+--------------------+\n",
      "only showing top 20 rows\n",
      "\n"
     ]
    }
   ],
   "source": [
    "df.filter(\"Data_value >= 1500\").show()"
   ]
  },
  {
   "cell_type": "markdown",
   "metadata": {},
   "source": [
    "filtering 한 결과안에서 select 할 수 있다."
   ]
  },
  {
   "cell_type": "code",
   "execution_count": 19,
   "metadata": {},
   "outputs": [
    {
     "name": "stdout",
     "output_type": "stream",
     "text": [
      "+----------+-------+\n",
      "|Data_value|  UNITS|\n",
      "+----------+-------+\n",
      "|  1570.507|Dollars|\n",
      "|  1517.143|Dollars|\n",
      "|   1826.73|Dollars|\n",
      "|  1710.073|Dollars|\n",
      "|  1559.479|Dollars|\n",
      "|  1514.155|Dollars|\n",
      "|  1570.581|Dollars|\n",
      "|  1735.291|Dollars|\n",
      "|  1680.567|Dollars|\n",
      "|  1562.499|Dollars|\n",
      "|  1541.834|Dollars|\n",
      "|  1514.345|Dollars|\n",
      "|  1772.086|Dollars|\n",
      "|  1554.221|Dollars|\n",
      "|  1771.028|Dollars|\n",
      "|   1665.84|Dollars|\n",
      "|  1554.397|Dollars|\n",
      "|  1817.118|Dollars|\n",
      "|  1582.915|Dollars|\n",
      "|  1614.752|Dollars|\n",
      "+----------+-------+\n",
      "only showing top 20 rows\n",
      "\n"
     ]
    }
   ],
   "source": [
    "df.filter(\"Data_value >= 1500\").select(['Data_value', 'UNITS']).show() "
   ]
  },
  {
   "cell_type": "markdown",
   "metadata": {},
   "source": [
    "조건은 [ ] 로 추가할 수 있다.\n",
    "\n",
    " & 과 | 로 조건을 엮을 수 있다."
   ]
  },
  {
   "cell_type": "code",
   "execution_count": 23,
   "metadata": {},
   "outputs": [
    {
     "name": "stdout",
     "output_type": "stream",
     "text": [
      "+----------+-------+--------------------+\n",
      "|Data_value|  UNITS|               Group|\n",
      "+----------+-------+--------------------+\n",
      "|  2089.453|Dollars|Industry by finan...|\n",
      "|  2325.251|Dollars|Industry by finan...|\n",
      "|  1940.523|Dollars|Industry by finan...|\n",
      "|  1970.426|Dollars|Industry by finan...|\n",
      "|  2020.922|Dollars|Industry by finan...|\n",
      "|  1913.853|Dollars|Industry by finan...|\n",
      "|  1978.712|Dollars|Industry by finan...|\n",
      "|  2017.142|Dollars|Industry by finan...|\n",
      "|   2306.12|Dollars|Industry by finan...|\n",
      "|   2215.81|Dollars|Industry by finan...|\n",
      "|    2445.0|Dollars|Industry by finan...|\n",
      "|   2321.58|Dollars|Industry by finan...|\n",
      "|   2475.22|Dollars|Industry by finan...|\n",
      "|  2332.116|Dollars|Industry by finan...|\n",
      "|  2349.335|Dollars|Industry by finan...|\n",
      "|  2278.662|Dollars|Industry by finan...|\n",
      "|   2336.13|Dollars|Industry by finan...|\n",
      "|  2312.109|Dollars|Industry by finan...|\n",
      "|   2337.07|Dollars|Industry by finan...|\n",
      "|  2295.937|Dollars|Industry by finan...|\n",
      "+----------+-------+--------------------+\n",
      "only showing top 20 rows\n",
      "\n"
     ]
    },
    {
     "name": "stderr",
     "output_type": "stream",
     "text": [
      "22/04/24 10:22:09 WARN HeartbeatReceiver: Removing executor driver with no recent heartbeats: 928333 ms exceeds timeout 120000 ms\n",
      "22/04/24 10:22:09 WARN SparkContext: Killing executors is not supported by current scheduler.\n"
     ]
    }
   ],
   "source": [
    "df.filter((df['Data_value'] >= 1900) &\n",
    "          (df['Data_value'] <= 2500)).show()"
   ]
  }
 ],
 "metadata": {
  "interpreter": {
   "hash": "a04e1936a8279292722c1dee4730d7414b74ec89bd57cee0a3482b9ac557871b"
  },
  "kernelspec": {
   "display_name": "Python 3.9.7 ('base')",
   "language": "python",
   "name": "python3"
  },
  "language_info": {
   "codemirror_mode": {
    "name": "ipython",
    "version": 3
   },
   "file_extension": ".py",
   "mimetype": "text/x-python",
   "name": "python",
   "nbconvert_exporter": "python",
   "pygments_lexer": "ipython3",
   "version": "3.9.7"
  },
  "orig_nbformat": 4
 },
 "nbformat": 4,
 "nbformat_minor": 2
}
