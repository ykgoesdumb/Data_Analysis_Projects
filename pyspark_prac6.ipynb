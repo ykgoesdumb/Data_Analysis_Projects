{
 "cells": [
  {
   "cell_type": "markdown",
   "metadata": {},
   "source": [
    "## Pyspark 연습 6"
   ]
  },
  {
   "cell_type": "markdown",
   "metadata": {},
   "source": [
    "- pandas Dataframe -> pyspark Dataframe 으로 변환\n",
    "- pyspark ml  로 linear regression model 만들어보기"
   ]
  },
  {
   "cell_type": "code",
   "execution_count": 4,
   "metadata": {},
   "outputs": [],
   "source": [
    "from pyspark.sql import SparkSession\n",
    "from sklearn.datasets import load_iris\n",
    "import pandas as pd\n",
    "spark = SparkSession.builder.appName('Missing').getOrCreate()"
   ]
  },
  {
   "cell_type": "markdown",
   "metadata": {},
   "source": [
    "### pandas dataframe 을 pyspark 변환하기"
   ]
  },
  {
   "cell_type": "code",
   "execution_count": 2,
   "metadata": {},
   "outputs": [],
   "source": [
    "iris = load_iris()"
   ]
  },
  {
   "cell_type": "code",
   "execution_count": 5,
   "metadata": {},
   "outputs": [
    {
     "data": {
      "text/html": [
       "<div>\n",
       "<style scoped>\n",
       "    .dataframe tbody tr th:only-of-type {\n",
       "        vertical-align: middle;\n",
       "    }\n",
       "\n",
       "    .dataframe tbody tr th {\n",
       "        vertical-align: top;\n",
       "    }\n",
       "\n",
       "    .dataframe thead th {\n",
       "        text-align: right;\n",
       "    }\n",
       "</style>\n",
       "<table border=\"1\" class=\"dataframe\">\n",
       "  <thead>\n",
       "    <tr style=\"text-align: right;\">\n",
       "      <th></th>\n",
       "      <th>sepal length (cm)</th>\n",
       "      <th>sepal width (cm)</th>\n",
       "      <th>petal length (cm)</th>\n",
       "      <th>petal width (cm)</th>\n",
       "      <th>label</th>\n",
       "    </tr>\n",
       "  </thead>\n",
       "  <tbody>\n",
       "    <tr>\n",
       "      <th>0</th>\n",
       "      <td>5.1</td>\n",
       "      <td>3.5</td>\n",
       "      <td>1.4</td>\n",
       "      <td>0.2</td>\n",
       "      <td>0</td>\n",
       "    </tr>\n",
       "    <tr>\n",
       "      <th>1</th>\n",
       "      <td>4.9</td>\n",
       "      <td>3.0</td>\n",
       "      <td>1.4</td>\n",
       "      <td>0.2</td>\n",
       "      <td>0</td>\n",
       "    </tr>\n",
       "    <tr>\n",
       "      <th>2</th>\n",
       "      <td>4.7</td>\n",
       "      <td>3.2</td>\n",
       "      <td>1.3</td>\n",
       "      <td>0.2</td>\n",
       "      <td>0</td>\n",
       "    </tr>\n",
       "    <tr>\n",
       "      <th>3</th>\n",
       "      <td>4.6</td>\n",
       "      <td>3.1</td>\n",
       "      <td>1.5</td>\n",
       "      <td>0.2</td>\n",
       "      <td>0</td>\n",
       "    </tr>\n",
       "    <tr>\n",
       "      <th>4</th>\n",
       "      <td>5.0</td>\n",
       "      <td>3.6</td>\n",
       "      <td>1.4</td>\n",
       "      <td>0.2</td>\n",
       "      <td>0</td>\n",
       "    </tr>\n",
       "  </tbody>\n",
       "</table>\n",
       "</div>"
      ],
      "text/plain": [
       "   sepal length (cm)  sepal width (cm)  petal length (cm)  petal width (cm)  \\\n",
       "0                5.1               3.5                1.4               0.2   \n",
       "1                4.9               3.0                1.4               0.2   \n",
       "2                4.7               3.2                1.3               0.2   \n",
       "3                4.6               3.1                1.5               0.2   \n",
       "4                5.0               3.6                1.4               0.2   \n",
       "\n",
       "   label  \n",
       "0      0  \n",
       "1      0  \n",
       "2      0  \n",
       "3      0  \n",
       "4      0  "
      ]
     },
     "execution_count": 5,
     "metadata": {},
     "output_type": "execute_result"
    }
   ],
   "source": [
    "iris_data = iris.data\n",
    "iris_label = iris.target\n",
    "iris_df = pd.DataFrame(data = iris_data, columns = iris.feature_names)\n",
    "iris_df['label'] = iris.target\n",
    "iris_df.head()"
   ]
  },
  {
   "cell_type": "markdown",
   "metadata": {},
   "source": [
    "pandas로 생성한 dataframe은  createDataframe 으로 간단하게 변환할 수 있다.\n",
    "\n",
    "이걸 몰라서 csv 로 저장하고 불러왔었다.."
   ]
  },
  {
   "cell_type": "code",
   "execution_count": 6,
   "metadata": {},
   "outputs": [
    {
     "name": "stderr",
     "output_type": "stream",
     "text": [
      "[Stage 0:>                                                          (0 + 1) / 1]\r"
     ]
    },
    {
     "name": "stdout",
     "output_type": "stream",
     "text": [
      "+-----------------+----------------+-----------------+----------------+-----+\n",
      "|sepal length (cm)|sepal width (cm)|petal length (cm)|petal width (cm)|label|\n",
      "+-----------------+----------------+-----------------+----------------+-----+\n",
      "|              5.1|             3.5|              1.4|             0.2|    0|\n",
      "|              4.9|             3.0|              1.4|             0.2|    0|\n",
      "|              4.7|             3.2|              1.3|             0.2|    0|\n",
      "|              4.6|             3.1|              1.5|             0.2|    0|\n",
      "|              5.0|             3.6|              1.4|             0.2|    0|\n",
      "|              5.4|             3.9|              1.7|             0.4|    0|\n",
      "|              4.6|             3.4|              1.4|             0.3|    0|\n",
      "|              5.0|             3.4|              1.5|             0.2|    0|\n",
      "|              4.4|             2.9|              1.4|             0.2|    0|\n",
      "|              4.9|             3.1|              1.5|             0.1|    0|\n",
      "|              5.4|             3.7|              1.5|             0.2|    0|\n",
      "|              4.8|             3.4|              1.6|             0.2|    0|\n",
      "|              4.8|             3.0|              1.4|             0.1|    0|\n",
      "|              4.3|             3.0|              1.1|             0.1|    0|\n",
      "|              5.8|             4.0|              1.2|             0.2|    0|\n",
      "|              5.7|             4.4|              1.5|             0.4|    0|\n",
      "|              5.4|             3.9|              1.3|             0.4|    0|\n",
      "|              5.1|             3.5|              1.4|             0.3|    0|\n",
      "|              5.7|             3.8|              1.7|             0.3|    0|\n",
      "|              5.1|             3.8|              1.5|             0.3|    0|\n",
      "+-----------------+----------------+-----------------+----------------+-----+\n",
      "only showing top 20 rows\n",
      "\n"
     ]
    },
    {
     "name": "stderr",
     "output_type": "stream",
     "text": [
      "                                                                                \r"
     ]
    }
   ],
   "source": [
    "df = spark.createDataFrame(iris_df)\n",
    "df.show()"
   ]
  },
  {
   "cell_type": "code",
   "execution_count": 7,
   "metadata": {},
   "outputs": [
    {
     "name": "stdout",
     "output_type": "stream",
     "text": [
      "root\n",
      " |-- sepal length (cm): double (nullable = true)\n",
      " |-- sepal width (cm): double (nullable = true)\n",
      " |-- petal length (cm): double (nullable = true)\n",
      " |-- petal width (cm): double (nullable = true)\n",
      " |-- label: long (nullable = true)\n",
      "\n"
     ]
    }
   ],
   "source": [
    "df.printSchema()"
   ]
  },
  {
   "cell_type": "markdown",
   "metadata": {},
   "source": [
    "Vector Assembler"
   ]
  },
  {
   "cell_type": "code",
   "execution_count": 16,
   "metadata": {},
   "outputs": [],
   "source": [
    "from pyspark.ml.feature import VectorAssembler\n",
    "featureassembler = VectorAssembler(inputCols=['sepal length (cm)', 'sepal width (cm)', 'petal length (cm)']\n",
    "                                   ,outputCol= \"Independent Features\")"
   ]
  },
  {
   "cell_type": "code",
   "execution_count": 17,
   "metadata": {},
   "outputs": [
    {
     "name": "stdout",
     "output_type": "stream",
     "text": [
      "+-----------------+----------------+-----------------+----------------+-----+--------------------+\n",
      "|sepal length (cm)|sepal width (cm)|petal length (cm)|petal width (cm)|label|Independent Features|\n",
      "+-----------------+----------------+-----------------+----------------+-----+--------------------+\n",
      "|              5.1|             3.5|              1.4|             0.2|    0|       [5.1,3.5,1.4]|\n",
      "|              4.9|             3.0|              1.4|             0.2|    0|       [4.9,3.0,1.4]|\n",
      "|              4.7|             3.2|              1.3|             0.2|    0|       [4.7,3.2,1.3]|\n",
      "|              4.6|             3.1|              1.5|             0.2|    0|       [4.6,3.1,1.5]|\n",
      "|              5.0|             3.6|              1.4|             0.2|    0|       [5.0,3.6,1.4]|\n",
      "|              5.4|             3.9|              1.7|             0.4|    0|       [5.4,3.9,1.7]|\n",
      "|              4.6|             3.4|              1.4|             0.3|    0|       [4.6,3.4,1.4]|\n",
      "|              5.0|             3.4|              1.5|             0.2|    0|       [5.0,3.4,1.5]|\n",
      "|              4.4|             2.9|              1.4|             0.2|    0|       [4.4,2.9,1.4]|\n",
      "|              4.9|             3.1|              1.5|             0.1|    0|       [4.9,3.1,1.5]|\n",
      "|              5.4|             3.7|              1.5|             0.2|    0|       [5.4,3.7,1.5]|\n",
      "|              4.8|             3.4|              1.6|             0.2|    0|       [4.8,3.4,1.6]|\n",
      "|              4.8|             3.0|              1.4|             0.1|    0|       [4.8,3.0,1.4]|\n",
      "|              4.3|             3.0|              1.1|             0.1|    0|       [4.3,3.0,1.1]|\n",
      "|              5.8|             4.0|              1.2|             0.2|    0|       [5.8,4.0,1.2]|\n",
      "|              5.7|             4.4|              1.5|             0.4|    0|       [5.7,4.4,1.5]|\n",
      "|              5.4|             3.9|              1.3|             0.4|    0|       [5.4,3.9,1.3]|\n",
      "|              5.1|             3.5|              1.4|             0.3|    0|       [5.1,3.5,1.4]|\n",
      "|              5.7|             3.8|              1.7|             0.3|    0|       [5.7,3.8,1.7]|\n",
      "|              5.1|             3.8|              1.5|             0.3|    0|       [5.1,3.8,1.5]|\n",
      "+-----------------+----------------+-----------------+----------------+-----+--------------------+\n",
      "only showing top 20 rows\n",
      "\n"
     ]
    }
   ],
   "source": [
    "output = featureassembler.transform(df)\n",
    "output.show()"
   ]
  },
  {
   "cell_type": "code",
   "execution_count": 18,
   "metadata": {},
   "outputs": [
    {
     "data": {
      "text/plain": [
       "['sepal length (cm)',\n",
       " 'sepal width (cm)',\n",
       " 'petal length (cm)',\n",
       " 'petal width (cm)',\n",
       " 'label',\n",
       " 'Independent Features']"
      ]
     },
     "execution_count": 18,
     "metadata": {},
     "output_type": "execute_result"
    }
   ],
   "source": [
    "output.columns"
   ]
  },
  {
   "cell_type": "markdown",
   "metadata": {},
   "source": [
    "vector assembler 에서 생성한 independent feature 값과 예측할 타겟 \"petal width (cm)\" 만 재선택한다."
   ]
  },
  {
   "cell_type": "code",
   "execution_count": 19,
   "metadata": {},
   "outputs": [
    {
     "name": "stdout",
     "output_type": "stream",
     "text": [
      "+--------------------+----------------+\n",
      "|Independent Features|petal width (cm)|\n",
      "+--------------------+----------------+\n",
      "|       [5.1,3.5,1.4]|             0.2|\n",
      "|       [4.9,3.0,1.4]|             0.2|\n",
      "|       [4.7,3.2,1.3]|             0.2|\n",
      "|       [4.6,3.1,1.5]|             0.2|\n",
      "|       [5.0,3.6,1.4]|             0.2|\n",
      "|       [5.4,3.9,1.7]|             0.4|\n",
      "|       [4.6,3.4,1.4]|             0.3|\n",
      "|       [5.0,3.4,1.5]|             0.2|\n",
      "|       [4.4,2.9,1.4]|             0.2|\n",
      "|       [4.9,3.1,1.5]|             0.1|\n",
      "|       [5.4,3.7,1.5]|             0.2|\n",
      "|       [4.8,3.4,1.6]|             0.2|\n",
      "|       [4.8,3.0,1.4]|             0.1|\n",
      "|       [4.3,3.0,1.1]|             0.1|\n",
      "|       [5.8,4.0,1.2]|             0.2|\n",
      "|       [5.7,4.4,1.5]|             0.4|\n",
      "|       [5.4,3.9,1.3]|             0.4|\n",
      "|       [5.1,3.5,1.4]|             0.3|\n",
      "|       [5.7,3.8,1.7]|             0.3|\n",
      "|       [5.1,3.8,1.5]|             0.3|\n",
      "+--------------------+----------------+\n",
      "only showing top 20 rows\n",
      "\n"
     ]
    }
   ],
   "source": [
    "finalized_data = output.select(\"Independent Features\", \"petal width (cm)\")\n",
    "finalized_data.show()"
   ]
  },
  {
   "cell_type": "markdown",
   "metadata": {},
   "source": []
  },
  {
   "cell_type": "code",
   "execution_count": 21,
   "metadata": {},
   "outputs": [
    {
     "name": "stderr",
     "output_type": "stream",
     "text": [
      "22/04/24 21:05:01 WARN Instrumentation: [b8dc8861] regParam is zero, which might cause numerical instability and overfitting.\n"
     ]
    }
   ],
   "source": [
    "from pyspark.ml.regression import LinearRegression\n",
    "train_data,test_data = finalized_data.randomSplit([0.75,0.25])\n",
    "regressor = LinearRegression(featuresCol = 'Independent Features', labelCol= 'petal width (cm)')\n",
    "regressor = regressor.fit(train_data)"
   ]
  },
  {
   "cell_type": "markdown",
   "metadata": {},
   "source": [
    "Coefficients 구하기"
   ]
  },
  {
   "cell_type": "code",
   "execution_count": 22,
   "metadata": {},
   "outputs": [
    {
     "data": {
      "text/plain": [
       "DenseVector([-0.1747, 0.1771, 0.5046])"
      ]
     },
     "execution_count": 22,
     "metadata": {},
     "output_type": "execute_result"
    }
   ],
   "source": [
    "regressor.coefficients"
   ]
  },
  {
   "cell_type": "markdown",
   "metadata": {},
   "source": [
    "Intercept 구하기"
   ]
  },
  {
   "cell_type": "code",
   "execution_count": 23,
   "metadata": {},
   "outputs": [
    {
     "data": {
      "text/plain": [
       "-0.21580741349282237"
      ]
     },
     "execution_count": 23,
     "metadata": {},
     "output_type": "execute_result"
    }
   ],
   "source": [
    "regressor.intercept"
   ]
  },
  {
   "cell_type": "markdown",
   "metadata": {},
   "source": [
    "Prediction 하기"
   ]
  },
  {
   "cell_type": "code",
   "execution_count": 28,
   "metadata": {},
   "outputs": [
    {
     "name": "stderr",
     "output_type": "stream",
     "text": [
      "/Users/mijeongkim/opt/anaconda3/lib/python3.9/site-packages/pyspark/sql/context.py:125: FutureWarning: Deprecated in 3.0.0. Use SparkSession.builder.getOrCreate() instead.\n",
      "  warnings.warn(\n"
     ]
    },
    {
     "name": "stdout",
     "output_type": "stream",
     "text": [
      "+--------------------+----------------+--------------------+\n",
      "|Independent Features|petal width (cm)|          prediction|\n",
      "+--------------------+----------------+--------------------+\n",
      "|       [4.8,3.4,1.6]|             0.2|  0.3548647076629381|\n",
      "|       [4.9,3.0,1.4]|             0.2| 0.16564322904493148|\n",
      "|       [4.9,3.1,1.5]|             0.1| 0.23380792284680998|\n",
      "|       [4.9,3.1,1.5]|             0.2| 0.23380792284680998|\n",
      "|       [5.0,3.4,1.6]|             0.4|  0.3199176270031998|\n",
      "|       [5.4,3.4,1.7]|             0.2|  0.3004788841434113|\n",
      "|       [5.5,4.2,1.4]|             0.2| 0.27331329117199976|\n",
      "|       [5.7,3.8,1.7]|             0.3| 0.31889536452256495|\n",
      "|       [5.7,4.4,1.5]|             0.4| 0.32424017965633034|\n",
      "|       [4.4,3.0,1.3]|             0.2| 0.20255551223458904|\n",
      "|       [4.5,2.3,1.3]|             0.3|0.061117044509388235|\n",
      "|       [4.6,3.2,1.4]|             0.2|  0.2534824007189195|\n",
      "|       [4.8,3.0,1.4]|             0.3| 0.18311676937480073|\n",
      "|       [5.6,2.5,3.9]|             1.1|  1.2161675315170994|\n",
      "|       [5.7,2.8,4.5]|             1.3|    1.55455432797193|\n",
      "|       [5.8,2.7,4.1]|             1.0|  1.3175498384611182|\n",
      "|       [5.9,3.0,4.2]|             1.5|  1.4036595426175078|\n",
      "|       [6.0,2.2,4.0]|             1.0|  1.1436009626307404|\n",
      "|       [6.6,2.9,4.6]|             1.3|   1.465457158804986|\n",
      "|       [5.5,2.5,4.0]|             1.3|  1.2840964903066567|\n",
      "+--------------------+----------------+--------------------+\n",
      "only showing top 20 rows\n",
      "\n"
     ]
    }
   ],
   "source": [
    "pred_results=regressor.evaluate(test_data)\n",
    "pred_results.predictions.show()"
   ]
  },
  {
   "cell_type": "code",
   "execution_count": 29,
   "metadata": {},
   "outputs": [
    {
     "data": {
      "text/plain": [
       "(0.12540277734678246, 0.025090647101851306)"
      ]
     },
     "execution_count": 29,
     "metadata": {},
     "output_type": "execute_result"
    }
   ],
   "source": [
    "pred_results.meanAbsoluteError,pred_results.meanSquaredError"
   ]
  },
  {
   "cell_type": "code",
   "execution_count": null,
   "metadata": {},
   "outputs": [],
   "source": []
  }
 ],
 "metadata": {
  "interpreter": {
   "hash": "a04e1936a8279292722c1dee4730d7414b74ec89bd57cee0a3482b9ac557871b"
  },
  "kernelspec": {
   "display_name": "Python 3.9.7 ('base')",
   "language": "python",
   "name": "python3"
  },
  "language_info": {
   "codemirror_mode": {
    "name": "ipython",
    "version": 3
   },
   "file_extension": ".py",
   "mimetype": "text/x-python",
   "name": "python",
   "nbconvert_exporter": "python",
   "pygments_lexer": "ipython3",
   "version": "3.9.7"
  },
  "orig_nbformat": 4
 },
 "nbformat": 4,
 "nbformat_minor": 2
}
