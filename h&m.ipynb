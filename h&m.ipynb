{
 "cells": [
  {
   "cell_type": "markdown",
   "metadata": {},
   "source": [
    "### 라이브러리 불러오기"
   ]
  },
  {
   "cell_type": "code",
   "execution_count": 63,
   "metadata": {},
   "outputs": [],
   "source": [
    "#Load all libraries\n",
    "import numpy as np\n",
    "import pandas as pd\n",
    "import seaborn as sns\n",
    "from matplotlib import pyplot as plt\n",
    "import matplotlib.dates as mdates\n",
    "import matplotlib.ticker as ticker\n",
    "import plotly.graph_objects as go\n",
    "import datetime as dt\n",
    "import matplotlib.image as mpimg"
   ]
  },
  {
   "cell_type": "code",
   "execution_count": 82,
   "metadata": {},
   "outputs": [],
   "source": [
    "\n",
    "import platform\n",
    "if platform.system() == 'Darwin': #맥\n",
    "        plt.rc('font', family='AppleGothic') \n",
    "elif platform.system() == 'Windows': #윈도우\n",
    "        plt.rc('font', family='Malgun Gothic') \n",
    "elif platform.system() == 'Linux': #리눅스 (구글 콜랩)\n",
    "        #!wget \"https://www.wfonts.com/download/data/2016/06/13/malgun-gothic/malgun.ttf\"\n",
    "        #!mv malgun.ttf /usr/share/fonts/truetype/\n",
    "        #import matplotlib.font_manager as fm \n",
    "        #fm._rebuild() \n",
    "        plt.rc('font', family='Malgun Gothic') \n",
    "plt.rcParams['axes.unicode_minus'] = False #한글 폰트 사용시 마이너스 폰트 깨짐 해결"
   ]
  },
  {
   "cell_type": "code",
   "execution_count": 80,
   "metadata": {},
   "outputs": [],
   "source": [
    "# 컬러 프리셋\n",
    "facecolor = '#DADBBD'\n",
    "sup_facecolor = '#6EBF8B'\n",
    "plotcolor = '#D82148'\n",
    "fontcolor = '#151D3B'\n",
    "sns.set(rc={'axes.facecolor':facecolor})"
   ]
  },
  {
   "cell_type": "markdown",
   "metadata": {},
   "source": [
    "### 데이터 전처리"
   ]
  },
  {
   "cell_type": "code",
   "execution_count": 3,
   "metadata": {},
   "outputs": [],
   "source": [
    "articles = pd.read_csv('../git/Datasets/articles.csv')\n",
    "customers = pd.read_csv('../git/Datasets/customers.csv')\n",
    "transactions = pd.read_csv('../git/Datasets/transactions_train.csv')\n"
   ]
  },
  {
   "cell_type": "code",
   "execution_count": 6,
   "metadata": {},
   "outputs": [],
   "source": [
    "def side_by_side(*objs, **kwds):\n",
    "    from pandas.io.formats.printing import adjoin\n",
    "    space = kwds.get('space', 4)\n",
    "    reprs = [repr(obj).split('\\n') for obj in objs]\n",
    "    print (adjoin(space, *reprs))\n",
    "    print()\n",
    "    return"
   ]
  },
  {
   "cell_type": "code",
   "execution_count": 7,
   "metadata": {},
   "outputs": [
    {
     "name": "stdout",
     "output_type": "stream",
     "text": [
      "article_id                        0    article_id                      105542\n",
      "product_code                      0    product_code                     47224\n",
      "prod_name                         0    prod_name                        45875\n",
      "product_type_no                   0    product_type_no                    132\n",
      "product_type_name                 0    product_type_name                  131\n",
      "product_group_name                0    product_group_name                  19\n",
      "graphical_appearance_no           0    graphical_appearance_no             30\n",
      "graphical_appearance_name         0    graphical_appearance_name           30\n",
      "colour_group_code                 0    colour_group_code                   50\n",
      "colour_group_name                 0    colour_group_name                   50\n",
      "perceived_colour_value_id         0    perceived_colour_value_id            8\n",
      "perceived_colour_value_name       0    perceived_colour_value_name          8\n",
      "perceived_colour_master_id        0    perceived_colour_master_id          20\n",
      "perceived_colour_master_name      0    perceived_colour_master_name        20\n",
      "department_no                     0    department_no                      299\n",
      "department_name                   0    department_name                    250\n",
      "index_code                        0    index_code                          10\n",
      "index_name                        0    index_name                          10\n",
      "index_group_no                    0    index_group_no                       5\n",
      "index_group_name                  0    index_group_name                     5\n",
      "section_no                        0    section_no                          57\n",
      "section_name                      0    section_name                        56\n",
      "garment_group_no                  0    garment_group_no                    21\n",
      "garment_group_name                0    garment_group_name                  21\n",
      "detail_desc                     416    detail_desc                      43404\n",
      "dtype: int64                           dtype: int64                          \n",
      "\n"
     ]
    }
   ],
   "source": [
    "side_by_side(articles.isnull().sum(), articles.nunique())"
   ]
  },
  {
   "cell_type": "code",
   "execution_count": 8,
   "metadata": {},
   "outputs": [
    {
     "name": "stdout",
     "output_type": "stream",
     "text": [
      "customer_id                    0    customer_id               1371980\n",
      "FN                        895050    FN                              1\n",
      "Active                    907576    Active                          1\n",
      "club_member_status          6062    club_member_status              3\n",
      "fashion_news_frequency     16009    fashion_news_frequency          4\n",
      "age                        15861    age                            84\n",
      "postal_code                    0    postal_code                352899\n",
      "dtype: int64                        dtype: int64                     \n",
      "\n"
     ]
    }
   ],
   "source": [
    "side_by_side(customers.isnull().sum(), customers.nunique())"
   ]
  },
  {
   "cell_type": "code",
   "execution_count": 10,
   "metadata": {},
   "outputs": [
    {
     "name": "stdout",
     "output_type": "stream",
     "text": [
      "t_dat               0    t_dat                   734\n",
      "customer_id         0    customer_id         1362281\n",
      "article_id          0    article_id           104547\n",
      "price               0    price                  9857\n",
      "sales_channel_id    0    sales_channel_id          2\n",
      "dtype: int64             dtype: int64               \n",
      "\n"
     ]
    }
   ],
   "source": [
    "side_by_side(transactions.isnull().sum(), transactions.nunique())"
   ]
  },
  {
   "cell_type": "code",
   "execution_count": 5,
   "metadata": {},
   "outputs": [
    {
     "name": "stdout",
     "output_type": "stream",
     "text": [
      "articles shape :  (105542, 25) \n",
      "customers shape :  (1371980, 7) \n",
      "transactions shape :  (31788324, 5)\n"
     ]
    }
   ],
   "source": [
    "print(\"articles shape : \",articles.shape,\"\\ncustomers shape : \", customers.shape, \"\\ntransactions shape : \", transactions.shape)"
   ]
  },
  {
   "cell_type": "markdown",
   "metadata": {},
   "source": [
    "article dataset 에서 article_id를 제외한 _no, _code, _id 가 들어간 칼럼들을 제거해주었다. "
   ]
  },
  {
   "cell_type": "code",
   "execution_count": 23,
   "metadata": {},
   "outputs": [
    {
     "data": {
      "text/html": [
       "<div>\n",
       "<style scoped>\n",
       "    .dataframe tbody tr th:only-of-type {\n",
       "        vertical-align: middle;\n",
       "    }\n",
       "\n",
       "    .dataframe tbody tr th {\n",
       "        vertical-align: top;\n",
       "    }\n",
       "\n",
       "    .dataframe thead th {\n",
       "        text-align: right;\n",
       "    }\n",
       "</style>\n",
       "<table border=\"1\" class=\"dataframe\">\n",
       "  <thead>\n",
       "    <tr style=\"text-align: right;\">\n",
       "      <th></th>\n",
       "      <th>article_id</th>\n",
       "      <th>prod_name</th>\n",
       "      <th>product_type_name</th>\n",
       "      <th>product_group_name</th>\n",
       "      <th>graphical_appearance_name</th>\n",
       "      <th>colour_group_name</th>\n",
       "      <th>perceived_colour_value_name</th>\n",
       "      <th>perceived_colour_master_name</th>\n",
       "      <th>department_name</th>\n",
       "      <th>index_name</th>\n",
       "      <th>index_group_name</th>\n",
       "      <th>section_name</th>\n",
       "      <th>garment_group_name</th>\n",
       "      <th>detail_desc</th>\n",
       "    </tr>\n",
       "  </thead>\n",
       "  <tbody>\n",
       "    <tr>\n",
       "      <th>21343</th>\n",
       "      <td>593783005</td>\n",
       "      <td>JACKIE TEE</td>\n",
       "      <td>T-shirt</td>\n",
       "      <td>Garment Upper body</td>\n",
       "      <td>Stripe</td>\n",
       "      <td>White</td>\n",
       "      <td>Light</td>\n",
       "      <td>White</td>\n",
       "      <td>Young Girl Jersey Basic</td>\n",
       "      <td>Children Sizes 134-170</td>\n",
       "      <td>Baby/Children</td>\n",
       "      <td>Girls Underwear &amp; Basics</td>\n",
       "      <td>Jersey Basic</td>\n",
       "      <td>Wide top in soft cotton and modal jersey with ...</td>\n",
       "    </tr>\n",
       "    <tr>\n",
       "      <th>50900</th>\n",
       "      <td>697688001</td>\n",
       "      <td>Merino 2 p sock</td>\n",
       "      <td>Socks</td>\n",
       "      <td>Socks &amp; Tights</td>\n",
       "      <td>Solid</td>\n",
       "      <td>Black</td>\n",
       "      <td>Dark</td>\n",
       "      <td>Black</td>\n",
       "      <td>Socks</td>\n",
       "      <td>Lingeries/Tights</td>\n",
       "      <td>Ladieswear</td>\n",
       "      <td>Womens Nightwear, Socks &amp; Tigh</td>\n",
       "      <td>Socks and Tights</td>\n",
       "      <td>Socks in soft, fine-knit merino wool with elas...</td>\n",
       "    </tr>\n",
       "    <tr>\n",
       "      <th>622</th>\n",
       "      <td>270381001</td>\n",
       "      <td>Clubba sunglasses</td>\n",
       "      <td>Sunglasses</td>\n",
       "      <td>Accessories</td>\n",
       "      <td>Solid</td>\n",
       "      <td>Yellowish Brown</td>\n",
       "      <td>Dark</td>\n",
       "      <td>Brown</td>\n",
       "      <td>Sunglasses</td>\n",
       "      <td>Ladies Accessories</td>\n",
       "      <td>Ladieswear</td>\n",
       "      <td>Womens Small accessories</td>\n",
       "      <td>Accessories</td>\n",
       "      <td>Sunglasses with plastic and metal frames and t...</td>\n",
       "    </tr>\n",
       "    <tr>\n",
       "      <th>5250</th>\n",
       "      <td>493438012</td>\n",
       "      <td>Leo seamless t-shirt (1)</td>\n",
       "      <td>T-shirt</td>\n",
       "      <td>Garment Upper body</td>\n",
       "      <td>Melange</td>\n",
       "      <td>Black</td>\n",
       "      <td>Dark</td>\n",
       "      <td>Black</td>\n",
       "      <td>Ladies Sport Bras</td>\n",
       "      <td>Sport</td>\n",
       "      <td>Sport</td>\n",
       "      <td>Ladies H&amp;M Sport</td>\n",
       "      <td>Jersey Fancy</td>\n",
       "      <td>NaN</td>\n",
       "    </tr>\n",
       "    <tr>\n",
       "      <th>66233</th>\n",
       "      <td>747197001</td>\n",
       "      <td>Barcelona jumpsuit</td>\n",
       "      <td>Jumpsuit/Playsuit</td>\n",
       "      <td>Garment Full body</td>\n",
       "      <td>All over pattern</td>\n",
       "      <td>Black</td>\n",
       "      <td>Dark</td>\n",
       "      <td>Black</td>\n",
       "      <td>Dresses</td>\n",
       "      <td>Divided</td>\n",
       "      <td>Divided</td>\n",
       "      <td>Divided Collection</td>\n",
       "      <td>Dresses Ladies</td>\n",
       "      <td>Playsuit in a patterned viscose weave with nar...</td>\n",
       "    </tr>\n",
       "  </tbody>\n",
       "</table>\n",
       "</div>"
      ],
      "text/plain": [
       "       article_id                 prod_name  product_type_name  \\\n",
       "21343   593783005                JACKIE TEE            T-shirt   \n",
       "50900   697688001           Merino 2 p sock              Socks   \n",
       "622     270381001         Clubba sunglasses         Sunglasses   \n",
       "5250    493438012  Leo seamless t-shirt (1)            T-shirt   \n",
       "66233   747197001        Barcelona jumpsuit  Jumpsuit/Playsuit   \n",
       "\n",
       "       product_group_name graphical_appearance_name colour_group_name  \\\n",
       "21343  Garment Upper body                    Stripe             White   \n",
       "50900      Socks & Tights                     Solid             Black   \n",
       "622           Accessories                     Solid   Yellowish Brown   \n",
       "5250   Garment Upper body                   Melange             Black   \n",
       "66233   Garment Full body          All over pattern             Black   \n",
       "\n",
       "      perceived_colour_value_name perceived_colour_master_name  \\\n",
       "21343                       Light                        White   \n",
       "50900                        Dark                        Black   \n",
       "622                          Dark                        Brown   \n",
       "5250                         Dark                        Black   \n",
       "66233                        Dark                        Black   \n",
       "\n",
       "               department_name              index_name index_group_name  \\\n",
       "21343  Young Girl Jersey Basic  Children Sizes 134-170    Baby/Children   \n",
       "50900                    Socks        Lingeries/Tights       Ladieswear   \n",
       "622                 Sunglasses      Ladies Accessories       Ladieswear   \n",
       "5250         Ladies Sport Bras                   Sport            Sport   \n",
       "66233                  Dresses                 Divided          Divided   \n",
       "\n",
       "                         section_name garment_group_name  \\\n",
       "21343        Girls Underwear & Basics       Jersey Basic   \n",
       "50900  Womens Nightwear, Socks & Tigh   Socks and Tights   \n",
       "622          Womens Small accessories        Accessories   \n",
       "5250                 Ladies H&M Sport       Jersey Fancy   \n",
       "66233              Divided Collection     Dresses Ladies   \n",
       "\n",
       "                                             detail_desc  \n",
       "21343  Wide top in soft cotton and modal jersey with ...  \n",
       "50900  Socks in soft, fine-knit merino wool with elas...  \n",
       "622    Sunglasses with plastic and metal frames and t...  \n",
       "5250                                                 NaN  \n",
       "66233  Playsuit in a patterned viscose weave with nar...  "
      ]
     },
     "execution_count": 23,
     "metadata": {},
     "output_type": "execute_result"
    }
   ],
   "source": [
    "article_delete = ['_no','_code','_id']\n",
    "articles_clean = articles.loc[:,~articles.columns.str.contains('|'.join(article_delete), case =False)]\n",
    "articles_clean.insert(0, 'article_id', articles['article_id'])\n",
    "articles_clean.sample(5)"
   ]
  },
  {
   "cell_type": "markdown",
   "metadata": {},
   "source": [
    "transcations 의 't_dat' 을 datetime 으로 바꾸어 주었다"
   ]
  },
  {
   "cell_type": "code",
   "execution_count": 45,
   "metadata": {},
   "outputs": [
    {
     "name": "stdout",
     "output_type": "stream",
     "text": [
      "<class 'pandas.core.frame.DataFrame'>\n",
      "RangeIndex: 31788324 entries, 0 to 31788323\n",
      "Data columns (total 5 columns):\n",
      " #   Column            Dtype  \n",
      "---  ------            -----  \n",
      " 0   t_dat             object \n",
      " 1   customer_id       object \n",
      " 2   article_id        int64  \n",
      " 3   price             float64\n",
      " 4   sales_channel_id  int64  \n",
      "dtypes: float64(1), int64(2), object(2)\n",
      "memory usage: 1.2+ GB\n"
     ]
    },
    {
     "data": {
      "text/html": [
       "<div>\n",
       "<style scoped>\n",
       "    .dataframe tbody tr th:only-of-type {\n",
       "        vertical-align: middle;\n",
       "    }\n",
       "\n",
       "    .dataframe tbody tr th {\n",
       "        vertical-align: top;\n",
       "    }\n",
       "\n",
       "    .dataframe thead th {\n",
       "        text-align: right;\n",
       "    }\n",
       "</style>\n",
       "<table border=\"1\" class=\"dataframe\">\n",
       "  <thead>\n",
       "    <tr style=\"text-align: right;\">\n",
       "      <th></th>\n",
       "      <th>t_dat</th>\n",
       "      <th>customer_id</th>\n",
       "      <th>article_id</th>\n",
       "      <th>price</th>\n",
       "      <th>sales_channel_id</th>\n",
       "    </tr>\n",
       "  </thead>\n",
       "  <tbody>\n",
       "    <tr>\n",
       "      <th>23964504</th>\n",
       "      <td>2020-04-01</td>\n",
       "      <td>c35b93f19925a156bae0424cf4c52fe3be4ee59e270527...</td>\n",
       "      <td>714790008</td>\n",
       "      <td>0.028797</td>\n",
       "      <td>2</td>\n",
       "    </tr>\n",
       "    <tr>\n",
       "      <th>14403053</th>\n",
       "      <td>2019-07-24</td>\n",
       "      <td>6097a675666116b58f607a70363bca6076713ea5df4b47...</td>\n",
       "      <td>697564001</td>\n",
       "      <td>0.006763</td>\n",
       "      <td>1</td>\n",
       "    </tr>\n",
       "    <tr>\n",
       "      <th>20616193</th>\n",
       "      <td>2019-12-26</td>\n",
       "      <td>234d3dbfe20870ca96a683c90a4c4d1f2c9df74a039dfa...</td>\n",
       "      <td>536139012</td>\n",
       "      <td>0.010153</td>\n",
       "      <td>2</td>\n",
       "    </tr>\n",
       "    <tr>\n",
       "      <th>21675079</th>\n",
       "      <td>2020-01-26</td>\n",
       "      <td>3fe4ba45acf3eb7c5e71f50be0a965669a7711255d9950...</td>\n",
       "      <td>814763004</td>\n",
       "      <td>0.019814</td>\n",
       "      <td>2</td>\n",
       "    </tr>\n",
       "    <tr>\n",
       "      <th>11123911</th>\n",
       "      <td>2019-05-31</td>\n",
       "      <td>9e1ed72657aa09d69a642573e4feb213b2a71f4badc00d...</td>\n",
       "      <td>399256005</td>\n",
       "      <td>0.016932</td>\n",
       "      <td>2</td>\n",
       "    </tr>\n",
       "  </tbody>\n",
       "</table>\n",
       "</div>"
      ],
      "text/plain": [
       "               t_dat                                        customer_id  \\\n",
       "23964504  2020-04-01  c35b93f19925a156bae0424cf4c52fe3be4ee59e270527...   \n",
       "14403053  2019-07-24  6097a675666116b58f607a70363bca6076713ea5df4b47...   \n",
       "20616193  2019-12-26  234d3dbfe20870ca96a683c90a4c4d1f2c9df74a039dfa...   \n",
       "21675079  2020-01-26  3fe4ba45acf3eb7c5e71f50be0a965669a7711255d9950...   \n",
       "11123911  2019-05-31  9e1ed72657aa09d69a642573e4feb213b2a71f4badc00d...   \n",
       "\n",
       "          article_id     price  sales_channel_id  \n",
       "23964504   714790008  0.028797                 2  \n",
       "14403053   697564001  0.006763                 1  \n",
       "20616193   536139012  0.010153                 2  \n",
       "21675079   814763004  0.019814                 2  \n",
       "11123911   399256005  0.016932                 2  "
      ]
     },
     "metadata": {},
     "output_type": "display_data"
    }
   ],
   "source": [
    "transactions.info()\n",
    "display(transactions.sample(5))"
   ]
  },
  {
   "cell_type": "code",
   "execution_count": 46,
   "metadata": {},
   "outputs": [
    {
     "name": "stdout",
     "output_type": "stream",
     "text": [
      "데이터 측정기간은  2018-09-20 00:00:00 에서  2020-09-22 00:00:00 입니다\n"
     ]
    }
   ],
   "source": [
    "transactions['t_dat'] =pd.to_datetime(transactions['t_dat'], format='%Y/%m/%d')\n",
    "print(\"데이터 측정기간은 \", transactions['t_dat'].min(),\"에서 \", transactions['t_dat'].max(), \"입니다\")"
   ]
  },
  {
   "cell_type": "markdown",
   "metadata": {},
   "source": [
    "위에서 알 수 있다시피 transactions 데이터셋은 2년간의 거래내역을 가지고 있다."
   ]
  },
  {
   "cell_type": "markdown",
   "metadata": {},
   "source": [
    "### H & M 거래량 트렌드\n",
    "- 2년간의 회사의 거래량 변화\n",
    "- 비정상적 매출 감지"
   ]
  },
  {
   "cell_type": "code",
   "execution_count": 71,
   "metadata": {},
   "outputs": [],
   "source": [
    "trans_time=transactions.groupby('t_dat').sum()[['price']].reset_index()\n"
   ]
  },
  {
   "cell_type": "code",
   "execution_count": 102,
   "metadata": {},
   "outputs": [
    {
     "data": {
      "image/png": "[encoded data removed]",
      "text/plain": [
       "<Figure size 864x504 with 1 Axes>"
      ]
     },
     "metadata": {},
     "output_type": "display_data"
    }
   ],
   "source": [
    "# trans_time.head()\n",
    "trans_time = trans_time.sort_values('t_dat')\n",
    "\n",
    "fig, ax = plt.subplots(facecolor= sup_facecolor)\n",
    "fig.set_size_inches(12,7)\n",
    "ax.plot('t_dat', 'price', data=trans_time, color='#D82148', linewidth=2)\n",
    "ax.set_title('2018 - 2020 거래량 변화', color = fontcolor, size = 25, fontweight = 'bold')\n",
    "plt.xticks(color = fontcolor, fontweight = 'bold')\n",
    "plt.yticks(color = fontcolor, fontweight = 'bold')\n",
    "plt.show()"
   ]
  },
  {
   "cell_type": "markdown",
   "metadata": {},
   "source": [
    "그래프를 출력했을때 비정상적으로 매출이 높은 날들이 보인다"
   ]
  },
  {
   "cell_type": "code",
   "execution_count": 99,
   "metadata": {},
   "outputs": [
    {
     "data": {
      "text/html": [
       "<div>\n",
       "<style scoped>\n",
       "    .dataframe tbody tr th:only-of-type {\n",
       "        vertical-align: middle;\n",
       "    }\n",
       "\n",
       "    .dataframe tbody tr th {\n",
       "        vertical-align: top;\n",
       "    }\n",
       "\n",
       "    .dataframe thead th {\n",
       "        text-align: right;\n",
       "    }\n",
       "</style>\n",
       "<table border=\"1\" class=\"dataframe\">\n",
       "  <thead>\n",
       "    <tr style=\"text-align: right;\">\n",
       "      <th></th>\n",
       "      <th>t_dat</th>\n",
       "      <th>price</th>\n",
       "    </tr>\n",
       "  </thead>\n",
       "  <tbody>\n",
       "    <tr>\n",
       "      <th>373</th>\n",
       "      <td>2019-09-28</td>\n",
       "      <td>6161.603068</td>\n",
       "    </tr>\n",
       "    <tr>\n",
       "      <th>435</th>\n",
       "      <td>2019-11-29</td>\n",
       "      <td>4444.342390</td>\n",
       "    </tr>\n",
       "    <tr>\n",
       "      <th>9</th>\n",
       "      <td>2018-09-29</td>\n",
       "      <td>4071.381305</td>\n",
       "    </tr>\n",
       "    <tr>\n",
       "      <th>569</th>\n",
       "      <td>2020-04-11</td>\n",
       "      <td>3961.987763</td>\n",
       "    </tr>\n",
       "    <tr>\n",
       "      <th>64</th>\n",
       "      <td>2018-11-23</td>\n",
       "      <td>3891.939441</td>\n",
       "    </tr>\n",
       "  </tbody>\n",
       "</table>\n",
       "</div>"
      ],
      "text/plain": [
       "         t_dat        price\n",
       "373 2019-09-28  6161.603068\n",
       "435 2019-11-29  4444.342390\n",
       "9   2018-09-29  4071.381305\n",
       "569 2020-04-11  3961.987763\n",
       "64  2018-11-23  3891.939441"
      ]
     },
     "execution_count": 99,
     "metadata": {},
     "output_type": "execute_result"
    }
   ],
   "source": [
    "trans_time.sort_values('price', ascending = False).head()"
   ]
  },
  {
   "cell_type": "markdown",
   "metadata": {},
   "source": [
    "상위 5개의 최대 매출을 올린 날짜는 이러하다. 이 날짜에 어떠한 이벤트가 있었는지 추후에 조사하면 좋을 것 같다 "
   ]
  },
  {
   "cell_type": "markdown",
   "metadata": {},
   "source": [
    "### H & M 상위 매출 제품군"
   ]
  },
  {
   "cell_type": "code",
   "execution_count": 47,
   "metadata": {},
   "outputs": [],
   "source": [
    "best_product = pd.DataFrame(transactions, columns = ['article_id', 'price'])\n",
    "best_product_merge = pd.DataFrame(articles, columns = ['article_id', 'product_group_name'])\n",
    "best_product = pd.merge(best_product,best_product_merge, how='left', on='article_id')"
   ]
  },
  {
   "cell_type": "code",
   "execution_count": 100,
   "metadata": {},
   "outputs": [],
   "source": [
    "best_product_grouped = best_product.groupby('product_group_name').sum()[['price']].sort_values('price', ascending = False).reset_index()"
   ]
  },
  {
   "cell_type": "code",
   "execution_count": 108,
   "metadata": {},
   "outputs": [
    {
     "data": {
      "image/png": "[encoded data removed]",
      "text/plain": [
       "<Figure size 864x504 with 1 Axes>"
      ]
     },
     "metadata": {},
     "output_type": "display_data"
    }
   ],
   "source": [
    "fig, ax = plt.subplots(facecolor= sup_facecolor)\n",
    "fig.set_size_inches(12,7)\n",
    "sns.barplot(data=best_product_grouped, x = 'price' , y = 'product_group_name', palette = 'dark', linewidth=2)\n",
    "plt.title('제품군별 매출', color = fontcolor, size = 25, fontweight = 'bold')\n",
    "plt.xlabel('총 매출', color = fontcolor, fontweight = 'bold')\n",
    "plt.ylabel('제품군', color = fontcolor, fontweight = 'bold')\n",
    "plt.xticks(color = fontcolor, fontweight = 'bold', size =12)\n",
    "plt.yticks(color = fontcolor, fontweight = 'bold', size =12)\n",
    "plt.show()"
   ]
  },
  {
   "cell_type": "markdown",
   "metadata": {},
   "source": [
    "가장 많은 매출을 올린 상위 3개의 제품군은 크게 놀라운 결과는 아니였다. 상의(upper body),하의(lower body),한벌옷(full body) 가 주를 이루었다"
   ]
  },
  {
   "cell_type": "markdown",
   "metadata": {},
   "source": [
    "### Top10 구매자"
   ]
  },
  {
   "cell_type": "code",
   "execution_count": 135,
   "metadata": {},
   "outputs": [],
   "source": [
    "\n",
    "trans_grouped = transactions.groupby('customer_id').agg({'price':'sum', 'article_id':'count'}).reset_index()\n",
    "customers_extract = pd.DataFrame(customers, \n",
    "                                 columns = ['customer_id', 'club_member_status', \n",
    "                                            'fashion_news_frequency', 'age', 'postal_code'])\n",
    "\n"
   ]
  },
  {
   "cell_type": "code",
   "execution_count": 139,
   "metadata": {},
   "outputs": [
    {
     "data": {
      "text/html": [
       "<div>\n",
       "<style scoped>\n",
       "    .dataframe tbody tr th:only-of-type {\n",
       "        vertical-align: middle;\n",
       "    }\n",
       "\n",
       "    .dataframe tbody tr th {\n",
       "        vertical-align: top;\n",
       "    }\n",
       "\n",
       "    .dataframe thead th {\n",
       "        text-align: right;\n",
       "    }\n",
       "</style>\n",
       "<table border=\"1\" class=\"dataframe\">\n",
       "  <thead>\n",
       "    <tr style=\"text-align: right;\">\n",
       "      <th></th>\n",
       "      <th>customer_id</th>\n",
       "      <th>club_member_status</th>\n",
       "      <th>fashion_news_frequency</th>\n",
       "      <th>age</th>\n",
       "      <th>postal_code</th>\n",
       "      <th>purchased_amt</th>\n",
       "      <th>purchased_item</th>\n",
       "    </tr>\n",
       "  </thead>\n",
       "  <tbody>\n",
       "    <tr>\n",
       "      <th>0</th>\n",
       "      <td>00000dbacae5abe5e23885899a1fa44253a17956c6d1c3...</td>\n",
       "      <td>ACTIVE</td>\n",
       "      <td>NONE</td>\n",
       "      <td>49.0</td>\n",
       "      <td>52043ee2162cf5aa7ee79974281641c6f11a68d276429a...</td>\n",
       "      <td>0.648983</td>\n",
       "      <td>21.0</td>\n",
       "    </tr>\n",
       "    <tr>\n",
       "      <th>1</th>\n",
       "      <td>0000423b00ade91418cceaf3b26c6af3dd342b51fd051e...</td>\n",
       "      <td>ACTIVE</td>\n",
       "      <td>NONE</td>\n",
       "      <td>25.0</td>\n",
       "      <td>2973abc54daa8a5f8ccfe9362140c63247c5eee03f1d93...</td>\n",
       "      <td>2.601932</td>\n",
       "      <td>86.0</td>\n",
       "    </tr>\n",
       "    <tr>\n",
       "      <th>2</th>\n",
       "      <td>000058a12d5b43e67d225668fa1f8d618c13dc232df0ca...</td>\n",
       "      <td>ACTIVE</td>\n",
       "      <td>NONE</td>\n",
       "      <td>24.0</td>\n",
       "      <td>64f17e6a330a85798e4998f62d0930d14db8db1c054af6...</td>\n",
       "      <td>0.704780</td>\n",
       "      <td>18.0</td>\n",
       "    </tr>\n",
       "    <tr>\n",
       "      <th>3</th>\n",
       "      <td>00005ca1c9ed5f5146b52ac8639a40ca9d57aeff4d1bd2...</td>\n",
       "      <td>ACTIVE</td>\n",
       "      <td>NONE</td>\n",
       "      <td>54.0</td>\n",
       "      <td>5d36574f52495e81f019b680c843c443bd343d5ca5b1c2...</td>\n",
       "      <td>0.060983</td>\n",
       "      <td>2.0</td>\n",
       "    </tr>\n",
       "    <tr>\n",
       "      <th>4</th>\n",
       "      <td>00006413d8573cd20ed7128e53b7b13819fe5cfc2d801f...</td>\n",
       "      <td>ACTIVE</td>\n",
       "      <td>Regularly</td>\n",
       "      <td>52.0</td>\n",
       "      <td>25fa5ddee9aac01b35208d01736e57942317d756b32ddd...</td>\n",
       "      <td>0.469695</td>\n",
       "      <td>13.0</td>\n",
       "    </tr>\n",
       "  </tbody>\n",
       "</table>\n",
       "</div>"
      ],
      "text/plain": [
       "                                         customer_id club_member_status  \\\n",
       "0  00000dbacae5abe5e23885899a1fa44253a17956c6d1c3...             ACTIVE   \n",
       "1  0000423b00ade91418cceaf3b26c6af3dd342b51fd051e...             ACTIVE   \n",
       "2  000058a12d5b43e67d225668fa1f8d618c13dc232df0ca...             ACTIVE   \n",
       "3  00005ca1c9ed5f5146b52ac8639a40ca9d57aeff4d1bd2...             ACTIVE   \n",
       "4  00006413d8573cd20ed7128e53b7b13819fe5cfc2d801f...             ACTIVE   \n",
       "\n",
       "  fashion_news_frequency   age  \\\n",
       "0                   NONE  49.0   \n",
       "1                   NONE  25.0   \n",
       "2                   NONE  24.0   \n",
       "3                   NONE  54.0   \n",
       "4              Regularly  52.0   \n",
       "\n",
       "                                         postal_code  purchased_amt  \\\n",
       "0  52043ee2162cf5aa7ee79974281641c6f11a68d276429a...       0.648983   \n",
       "1  2973abc54daa8a5f8ccfe9362140c63247c5eee03f1d93...       2.601932   \n",
       "2  64f17e6a330a85798e4998f62d0930d14db8db1c054af6...       0.704780   \n",
       "3  5d36574f52495e81f019b680c843c443bd343d5ca5b1c2...       0.060983   \n",
       "4  25fa5ddee9aac01b35208d01736e57942317d756b32ddd...       0.469695   \n",
       "\n",
       "   purchased_item  \n",
       "0            21.0  \n",
       "1            86.0  \n",
       "2            18.0  \n",
       "3             2.0  \n",
       "4            13.0  "
      ]
     },
     "execution_count": 139,
     "metadata": {},
     "output_type": "execute_result"
    }
   ],
   "source": [
    "trans_grouped.rename(columns = {'price': 'purchased_amt','article_id': 'purchased_item'}, inplace = True)\n",
    "trans_cus_merged = pd.merge(customers_extract, trans_grouped, how = 'left', on = 'customer_id')\n",
    "trans_cus_merged.head()"
   ]
  },
  {
   "cell_type": "code",
   "execution_count": 171,
   "metadata": {},
   "outputs": [
    {
     "data": {
      "text/html": [
       "<div>\n",
       "<style scoped>\n",
       "    .dataframe tbody tr th:only-of-type {\n",
       "        vertical-align: middle;\n",
       "    }\n",
       "\n",
       "    .dataframe tbody tr th {\n",
       "        vertical-align: top;\n",
       "    }\n",
       "\n",
       "    .dataframe thead th {\n",
       "        text-align: right;\n",
       "    }\n",
       "</style>\n",
       "<table border=\"1\" class=\"dataframe\">\n",
       "  <thead>\n",
       "    <tr style=\"text-align: right;\">\n",
       "      <th></th>\n",
       "      <th>customer_id</th>\n",
       "      <th>purchased_item</th>\n",
       "      <th>age</th>\n",
       "    </tr>\n",
       "  </thead>\n",
       "  <tbody>\n",
       "    <tr>\n",
       "      <th>1018839</th>\n",
       "      <td>be1981ab818cf4ef6765b2ecaea7a2cbf14ccd6e8a7ee9...</td>\n",
       "      <td>1895.0</td>\n",
       "      <td>31.0</td>\n",
       "    </tr>\n",
       "    <tr>\n",
       "      <th>969180</th>\n",
       "      <td>b4db5e5259234574edfff958e170fe3a5e13b6f146752c...</td>\n",
       "      <td>1441.0</td>\n",
       "      <td>25.0</td>\n",
       "    </tr>\n",
       "    <tr>\n",
       "      <th>394603</th>\n",
       "      <td>49beaacac0c7801c2ce2d189efe525fe80b5d37e46ed05...</td>\n",
       "      <td>1364.0</td>\n",
       "      <td>28.0</td>\n",
       "    </tr>\n",
       "    <tr>\n",
       "      <th>891429</th>\n",
       "      <td>a65f77281a528bf5c1e9f270141d601d116e1df33bf9df...</td>\n",
       "      <td>1361.0</td>\n",
       "      <td>61.0</td>\n",
       "    </tr>\n",
       "    <tr>\n",
       "      <th>1098652</th>\n",
       "      <td>cd04ec2726dd58a8c753e0d6423e57716fd9ebcf2f14ed...</td>\n",
       "      <td>1237.0</td>\n",
       "      <td>68.0</td>\n",
       "    </tr>\n",
       "    <tr>\n",
       "      <th>459261</th>\n",
       "      <td>55d15396193dfd45836af3a6269a079efea339e875eff4...</td>\n",
       "      <td>1208.0</td>\n",
       "      <td>36.0</td>\n",
       "    </tr>\n",
       "    <tr>\n",
       "      <th>1035425</th>\n",
       "      <td>c140410d72a41ee5e2e3ba3d7f5a860f337f1b5e41c27c...</td>\n",
       "      <td>1170.0</td>\n",
       "      <td>46.0</td>\n",
       "    </tr>\n",
       "    <tr>\n",
       "      <th>760470</th>\n",
       "      <td>8df45859ccd71ef1e48e2ee9d1c65d5728c31c46ae957d...</td>\n",
       "      <td>1169.0</td>\n",
       "      <td>60.0</td>\n",
       "    </tr>\n",
       "    <tr>\n",
       "      <th>20300</th>\n",
       "      <td>03d0011487606c37c1b1ed147fc72f285a50c05f00b971...</td>\n",
       "      <td>1157.0</td>\n",
       "      <td>51.0</td>\n",
       "    </tr>\n",
       "    <tr>\n",
       "      <th>582904</th>\n",
       "      <td>6cc121e5cc202d2bf344ffe795002bdbf87178054bcda2...</td>\n",
       "      <td>1143.0</td>\n",
       "      <td>32.0</td>\n",
       "    </tr>\n",
       "  </tbody>\n",
       "</table>\n",
       "</div>"
      ],
      "text/plain": [
       "                                               customer_id  purchased_item  \\\n",
       "1018839  be1981ab818cf4ef6765b2ecaea7a2cbf14ccd6e8a7ee9...          1895.0   \n",
       "969180   b4db5e5259234574edfff958e170fe3a5e13b6f146752c...          1441.0   \n",
       "394603   49beaacac0c7801c2ce2d189efe525fe80b5d37e46ed05...          1364.0   \n",
       "891429   a65f77281a528bf5c1e9f270141d601d116e1df33bf9df...          1361.0   \n",
       "1098652  cd04ec2726dd58a8c753e0d6423e57716fd9ebcf2f14ed...          1237.0   \n",
       "459261   55d15396193dfd45836af3a6269a079efea339e875eff4...          1208.0   \n",
       "1035425  c140410d72a41ee5e2e3ba3d7f5a860f337f1b5e41c27c...          1170.0   \n",
       "760470   8df45859ccd71ef1e48e2ee9d1c65d5728c31c46ae957d...          1169.0   \n",
       "20300    03d0011487606c37c1b1ed147fc72f285a50c05f00b971...          1157.0   \n",
       "582904   6cc121e5cc202d2bf344ffe795002bdbf87178054bcda2...          1143.0   \n",
       "\n",
       "          age  \n",
       "1018839  31.0  \n",
       "969180   25.0  \n",
       "394603   28.0  \n",
       "891429   61.0  \n",
       "1098652  68.0  \n",
       "459261   36.0  \n",
       "1035425  46.0  \n",
       "760470   60.0  \n",
       "20300    51.0  \n",
       "582904   32.0  "
      ]
     },
     "metadata": {},
     "output_type": "display_data"
    },
    {
     "name": "stdout",
     "output_type": "stream",
     "text": [
      "top 10의 평균 상품 구매 개수는  1314.5 개 입니다\n",
      "top 10의 평균 연령은  43.8 세 입니다\n"
     ]
    }
   ],
   "source": [
    "top10 = trans_cus_merged.iloc[:,np.r_[:1,-1,3]]\n",
    "top10 = top10.sort_values('purchased_item', ascending = False).head(10)\n",
    "display(top10)\n",
    "print(\"top 10의 평균 상품 구매 개수는 \",top10.purchased_item.mean(),'개 입니다')\n",
    "print(\"top 10의 평균 연령은 \", top10.age.mean(), '세 입니다')"
   ]
  },
  {
   "cell_type": "markdown",
   "metadata": {},
   "source": [
    "### 패션 뉴스 빈도수와 매출의 상관관계"
   ]
  },
  {
   "cell_type": "code",
   "execution_count": 173,
   "metadata": {},
   "outputs": [
    {
     "data": {
      "text/plain": [
       "array(['NONE', 'Regularly', nan, 'Monthly', 'None'], dtype=object)"
      ]
     },
     "execution_count": 173,
     "metadata": {},
     "output_type": "execute_result"
    }
   ],
   "source": [
    "trans_cus_merged['fashion_news_frequency'].unique()"
   ]
  },
  {
   "cell_type": "markdown",
   "metadata": {},
   "source": [
    "fashion_news"
   ]
  },
  {
   "cell_type": "code",
   "execution_count": 128,
   "metadata": {},
   "outputs": [
    {
     "data": {
      "text/html": [
       "<div>\n",
       "<style scoped>\n",
       "    .dataframe tbody tr th:only-of-type {\n",
       "        vertical-align: middle;\n",
       "    }\n",
       "\n",
       "    .dataframe tbody tr th {\n",
       "        vertical-align: top;\n",
       "    }\n",
       "\n",
       "    .dataframe thead th {\n",
       "        text-align: right;\n",
       "    }\n",
       "</style>\n",
       "<table border=\"1\" class=\"dataframe\">\n",
       "  <thead>\n",
       "    <tr style=\"text-align: right;\">\n",
       "      <th></th>\n",
       "      <th>customer_id</th>\n",
       "      <th>FN</th>\n",
       "      <th>Active</th>\n",
       "      <th>club_member_status</th>\n",
       "      <th>fashion_news_frequency</th>\n",
       "      <th>age</th>\n",
       "      <th>postal_code</th>\n",
       "    </tr>\n",
       "  </thead>\n",
       "  <tbody>\n",
       "    <tr>\n",
       "      <th>0</th>\n",
       "      <td>00000dbacae5abe5e23885899a1fa44253a17956c6d1c3...</td>\n",
       "      <td>NaN</td>\n",
       "      <td>NaN</td>\n",
       "      <td>ACTIVE</td>\n",
       "      <td>NONE</td>\n",
       "      <td>49.0</td>\n",
       "      <td>52043ee2162cf5aa7ee79974281641c6f11a68d276429a...</td>\n",
       "    </tr>\n",
       "    <tr>\n",
       "      <th>1</th>\n",
       "      <td>0000423b00ade91418cceaf3b26c6af3dd342b51fd051e...</td>\n",
       "      <td>NaN</td>\n",
       "      <td>NaN</td>\n",
       "      <td>ACTIVE</td>\n",
       "      <td>NONE</td>\n",
       "      <td>25.0</td>\n",
       "      <td>2973abc54daa8a5f8ccfe9362140c63247c5eee03f1d93...</td>\n",
       "    </tr>\n",
       "    <tr>\n",
       "      <th>2</th>\n",
       "      <td>000058a12d5b43e67d225668fa1f8d618c13dc232df0ca...</td>\n",
       "      <td>NaN</td>\n",
       "      <td>NaN</td>\n",
       "      <td>ACTIVE</td>\n",
       "      <td>NONE</td>\n",
       "      <td>24.0</td>\n",
       "      <td>64f17e6a330a85798e4998f62d0930d14db8db1c054af6...</td>\n",
       "    </tr>\n",
       "    <tr>\n",
       "      <th>3</th>\n",
       "      <td>00005ca1c9ed5f5146b52ac8639a40ca9d57aeff4d1bd2...</td>\n",
       "      <td>NaN</td>\n",
       "      <td>NaN</td>\n",
       "      <td>ACTIVE</td>\n",
       "      <td>NONE</td>\n",
       "      <td>54.0</td>\n",
       "      <td>5d36574f52495e81f019b680c843c443bd343d5ca5b1c2...</td>\n",
       "    </tr>\n",
       "    <tr>\n",
       "      <th>4</th>\n",
       "      <td>00006413d8573cd20ed7128e53b7b13819fe5cfc2d801f...</td>\n",
       "      <td>1.0</td>\n",
       "      <td>1.0</td>\n",
       "      <td>ACTIVE</td>\n",
       "      <td>Regularly</td>\n",
       "      <td>52.0</td>\n",
       "      <td>25fa5ddee9aac01b35208d01736e57942317d756b32ddd...</td>\n",
       "    </tr>\n",
       "  </tbody>\n",
       "</table>\n",
       "</div>"
      ],
      "text/plain": [
       "                                         customer_id   FN  Active  \\\n",
       "0  00000dbacae5abe5e23885899a1fa44253a17956c6d1c3...  NaN     NaN   \n",
       "1  0000423b00ade91418cceaf3b26c6af3dd342b51fd051e...  NaN     NaN   \n",
       "2  000058a12d5b43e67d225668fa1f8d618c13dc232df0ca...  NaN     NaN   \n",
       "3  00005ca1c9ed5f5146b52ac8639a40ca9d57aeff4d1bd2...  NaN     NaN   \n",
       "4  00006413d8573cd20ed7128e53b7b13819fe5cfc2d801f...  1.0     1.0   \n",
       "\n",
       "  club_member_status fashion_news_frequency   age  \\\n",
       "0             ACTIVE                   NONE  49.0   \n",
       "1             ACTIVE                   NONE  25.0   \n",
       "2             ACTIVE                   NONE  24.0   \n",
       "3             ACTIVE                   NONE  54.0   \n",
       "4             ACTIVE              Regularly  52.0   \n",
       "\n",
       "                                         postal_code  \n",
       "0  52043ee2162cf5aa7ee79974281641c6f11a68d276429a...  \n",
       "1  2973abc54daa8a5f8ccfe9362140c63247c5eee03f1d93...  \n",
       "2  64f17e6a330a85798e4998f62d0930d14db8db1c054af6...  \n",
       "3  5d36574f52495e81f019b680c843c443bd343d5ca5b1c2...  \n",
       "4  25fa5ddee9aac01b35208d01736e57942317d756b32ddd...  "
      ]
     },
     "execution_count": 128,
     "metadata": {},
     "output_type": "execute_result"
    }
   ],
   "source": [
    "customers.head()"
   ]
  },
  {
   "cell_type": "code",
   "execution_count": null,
   "metadata": {},
   "outputs": [],
   "source": []
  },
  {
   "cell_type": "code",
   "execution_count": null,
   "metadata": {},
   "outputs": [],
   "source": []
  }
 ],
 "metadata": {
  "interpreter": {
   "hash": "a04e1936a8279292722c1dee4730d7414b74ec89bd57cee0a3482b9ac557871b"
  },
  "kernelspec": {
   "display_name": "Python 3.9.7 ('base')",
   "language": "python",
   "name": "python3"
  },
  "language_info": {
   "codemirror_mode": {
    "name": "ipython",
    "version": 3
   },
   "file_extension": ".py",
   "mimetype": "text/x-python",
   "name": "python",
   "nbconvert_exporter": "python",
   "pygments_lexer": "ipython3",
   "version": "3.9.7"
  },
  "orig_nbformat": 4
 },
 "nbformat": 4,
 "nbformat_minor": 2
}
