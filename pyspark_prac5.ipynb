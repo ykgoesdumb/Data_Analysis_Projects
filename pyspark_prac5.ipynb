{
 "cells": [
  {
   "cell_type": "markdown",
   "metadata": {},
   "source": [
    "## Pyspark 연습 5"
   ]
  },
  {
   "cell_type": "code",
   "execution_count": 19,
   "metadata": {},
   "outputs": [],
   "source": [
    "\n",
    "from pyspark.sql import SparkSession"
   ]
  },
  {
   "cell_type": "code",
   "execution_count": 20,
   "metadata": {},
   "outputs": [],
   "source": [
    "spark = SparkSession.builder.appName('Agg').getOrCreate()\n"
   ]
  },
  {
   "cell_type": "code",
   "execution_count": 21,
   "metadata": {},
   "outputs": [
    {
     "data": {
      "text/html": [
       "\n",
       "            <div>\n",
       "                <p><b>SparkSession - in-memory</b></p>\n",
       "                \n",
       "        <div>\n",
       "            <p><b>SparkContext</b></p>\n",
       "\n",
       "            <p><a href=\"http://192.168.219.104:4044\">Spark UI</a></p>\n",
       "\n",
       "            <dl>\n",
       "              <dt>Version</dt>\n",
       "                <dd><code>v3.2.1</code></dd>\n",
       "              <dt>Master</dt>\n",
       "                <dd><code>local[*]</code></dd>\n",
       "              <dt>AppName</dt>\n",
       "                <dd><code>Agg</code></dd>\n",
       "            </dl>\n",
       "        </div>\n",
       "        \n",
       "            </div>\n",
       "        "
      ],
      "text/plain": [
       "<pyspark.sql.session.SparkSession at 0x7fc3c55650d0>"
      ]
     },
     "execution_count": 21,
     "metadata": {},
     "output_type": "execute_result"
    }
   ],
   "source": [
    "spark"
   ]
  },
  {
   "cell_type": "code",
   "execution_count": 22,
   "metadata": {},
   "outputs": [],
   "source": [
    "df = spark.read.csv('test3.csv',\n",
    "                    header = True,\n",
    "                    inferSchema = True)"
   ]
  },
  {
   "cell_type": "code",
   "execution_count": 23,
   "metadata": {},
   "outputs": [],
   "source": [
    "df = df.select(['Period', 'Data_value', 'STATUS', 'Series_title_2', 'Series_title_4'])"
   ]
  },
  {
   "cell_type": "code",
   "execution_count": 24,
   "metadata": {},
   "outputs": [
    {
     "name": "stdout",
     "output_type": "stream",
     "text": [
      "+-------+----------+------+--------------------+--------------+\n",
      "| Period|Data_value|STATUS|      Series_title_2|Series_title_4|\n",
      "+-------+----------+------+--------------------+--------------+\n",
      "|2016.06|  1116.386|     F|Forestry and Logging|    Unadjusted|\n",
      "|2016.09|  1070.874|     F|Forestry and Logging|    Unadjusted|\n",
      "|2016.12|  1054.408|     F|Forestry and Logging|    Unadjusted|\n",
      "|2017.03|  1010.665|     F|Forestry and Logging|    Unadjusted|\n",
      "|2017.06|    1233.7|     F|Forestry and Logging|    Unadjusted|\n",
      "|2017.09|  1282.436|     F|Forestry and Logging|    Unadjusted|\n",
      "|2017.12|   1290.82|     F|Forestry and Logging|    Unadjusted|\n",
      "|2018.03|  1412.007|     F|Forestry and Logging|    Unadjusted|\n",
      "|2018.06|  1488.055|     F|Forestry and Logging|    Unadjusted|\n",
      "|2018.09|  1497.678|     F|Forestry and Logging|    Unadjusted|\n",
      "|2018.12|  1570.507|     F|Forestry and Logging|    Unadjusted|\n",
      "|2019.03|  1393.749|     F|Forestry and Logging|    Unadjusted|\n",
      "|2019.06|  1517.143|     F|Forestry and Logging|    Unadjusted|\n",
      "|2019.09|  1381.514|     F|Forestry and Logging|    Unadjusted|\n",
      "|2019.12|  1370.985|     F|Forestry and Logging|    Unadjusted|\n",
      "|2020.03|  1073.017|     F|Forestry and Logging|    Unadjusted|\n",
      "|2020.06|  1131.445|     F|Forestry and Logging|    Unadjusted|\n",
      "|2020.09|  1440.101|     F|Forestry and Logging|    Unadjusted|\n",
      "|2020.12|  1489.979|     F|Forestry and Logging|    Unadjusted|\n",
      "|2021.03|  1390.782|     F|Forestry and Logging|    Unadjusted|\n",
      "+-------+----------+------+--------------------+--------------+\n",
      "only showing top 20 rows\n",
      "\n"
     ]
    }
   ],
   "source": [
    "df.show()"
   ]
  },
  {
   "cell_type": "markdown",
   "metadata": {},
   "source": [
    "## Groupby"
   ]
  },
  {
   "cell_type": "markdown",
   "metadata": {},
   "source": [
    "sql 과 조금 다른 부분이 있다\n",
    "\n",
    "sql은 모든 column 이 agg function 조건을  만족해야 실행되지만\n",
    "\n",
    "pyspark는 agg function 을 수행할 수 있는 column 만 자동으로 적용시켜 결과를 보여준다"
   ]
  },
  {
   "cell_type": "code",
   "execution_count": 29,
   "metadata": {},
   "outputs": [
    {
     "name": "stdout",
     "output_type": "stream",
     "text": [
      "+------+------------------+-----------------+\n",
      "|STATUS|       avg(Period)|  avg(Data_value)|\n",
      "+------+------------------+-----------------+\n",
      "|     F|2018.7144258639673|3601.202593366779|\n",
      "|     C|2020.6394623655926|             null|\n",
      "|     R| 2018.511848739501|7238.874825930392|\n",
      "+------+------------------+-----------------+\n",
      "\n"
     ]
    }
   ],
   "source": [
    "df.groupby('STATUS').mean().show()"
   ]
  },
  {
   "cell_type": "code",
   "execution_count": 31,
   "metadata": {},
   "outputs": [
    {
     "name": "stdout",
     "output_type": "stream",
     "text": [
      "+--------------------+-----+\n",
      "|      Series_title_2|count|\n",
      "+--------------------+-----+\n",
      "|      Other Services|  138|\n",
      "|Food, Beverage an...|  138|\n",
      "|              Mining|  276|\n",
      "|Administrative an...|  138|\n",
      "|Arts and Recreati...|  138|\n",
      "|            Printing|  138|\n",
      "|Fishing, Aquacult...|  138|\n",
      "|Accommodation and...|  108|\n",
      "|        Construction|  276|\n",
      "|Professional, Sci...|  138|\n",
      "|Transport, Postal...|  276|\n",
      "|Metal Product Man...|  138|\n",
      "|Transport Equipme...|  138|\n",
      "|Petroleum, Chemic...|  138|\n",
      "|Forestry and Logging|  138|\n",
      "|Education and Tra...|  276|\n",
      "|Information Media...|  276|\n",
      "|Non-Metallic Mine...|  138|\n",
      "|Furniture and Oth...|  138|\n",
      "|Rental, Hiring an...|  276|\n",
      "+--------------------+-----+\n",
      "only showing top 20 rows\n",
      "\n"
     ]
    }
   ],
   "source": [
    "df.groupby('Series_title_2').count().show()"
   ]
  },
  {
   "cell_type": "markdown",
   "metadata": {},
   "source": [
    "### Agg 함수"
   ]
  },
  {
   "cell_type": "code",
   "execution_count": 34,
   "metadata": {},
   "outputs": [
    {
     "name": "stdout",
     "output_type": "stream",
     "text": [
      "+---------------+-------------+\n",
      "|max(Data_value)|count(STATUS)|\n",
      "+---------------+-------------+\n",
      "|      35915.799|         5440|\n",
      "+---------------+-------------+\n",
      "\n"
     ]
    }
   ],
   "source": [
    "df.agg({'Data_value' : 'max', 'STATUS' : 'count'}).show()"
   ]
  },
  {
   "cell_type": "code",
   "execution_count": null,
   "metadata": {},
   "outputs": [],
   "source": []
  }
 ],
 "metadata": {
  "interpreter": {
   "hash": "a04e1936a8279292722c1dee4730d7414b74ec89bd57cee0a3482b9ac557871b"
  },
  "kernelspec": {
   "display_name": "Python 3.9.7 ('base')",
   "language": "python",
   "name": "python3"
  },
  "language_info": {
   "codemirror_mode": {
    "name": "ipython",
    "version": 3
   },
   "file_extension": ".py",
   "mimetype": "text/x-python",
   "name": "python",
   "nbconvert_exporter": "python",
   "pygments_lexer": "ipython3",
   "version": "3.9.7"
  },
  "orig_nbformat": 4
 },
 "nbformat": 4,
 "nbformat_minor": 2
}
